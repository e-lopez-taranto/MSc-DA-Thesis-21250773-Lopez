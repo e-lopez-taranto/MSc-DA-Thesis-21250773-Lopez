{
 "cells": [
  {
   "cell_type": "markdown",
   "metadata": {},
   "source": [
    "# Machine Learning for Dairy Cattle Genomic Selection"
   ]
  },
  {
   "cell_type": "markdown",
   "metadata": {},
   "source": [
    "## Part 1: Data Cleaning"
   ]
  },
  {
   "cell_type": "code",
   "execution_count": 1,
   "metadata": {},
   "outputs": [],
   "source": [
    "import pandas as pd\n",
    "import matplotlib.pyplot as plt\n",
    "import numpy as np\n",
    "from sklearn.metrics import confusion_matrix\n",
    "from sklearn.metrics import mean_squared_error, r2_score, recall_score, accuracy_score\n",
    "from sklearn.model_selection import train_test_split, RandomizedSearchCV, GridSearchCV\n",
    "from sklearn.tree import DecisionTreeClassifier\n",
    "import datetime as dt\n",
    "from sklearn.ensemble import RandomForestRegressor, GradientBoostingRegressor\n",
    "from sklearn.linear_model import ElasticNet\n",
    "from matplotlib.pyplot import figure\n",
    "import math\n",
    "from scipy.stats import loguniform\n",
    "import itertools\n",
    "from sklearn.preprocessing import MinMaxScaler\n",
    "from sklearn.neural_network import MLPRegressor"
   ]
  },
  {
   "cell_type": "code",
   "execution_count": 2,
   "metadata": {},
   "outputs": [],
   "source": [
    "#Loading the data\n",
    "ebi22 = pd.read_csv(r\"C:\\Users\\emili\\OneDrive\\Escritorio\\NUIG\\Proyect\\datos.csv\")\n",
    "ebi17 = pd.read_csv(r'C:\\ProgramData\\MySQL\\MySQL Server 8.0\\Uploads\\EBI_2017.csv', encoding= 'unicode_escape')"
   ]
  },
  {
   "cell_type": "code",
   "execution_count": 3,
   "metadata": {},
   "outputs": [],
   "source": [
    "#selecting only the target features in the 2022 dataset\n",
    "ebi22 = ebi22.iloc[:,[0, 8, 9, 11, 13, 15, 17, 19, 21, 23, 27, 28, 29, 34, 35]]\n",
    "#dropping useless features in the 2017 dataset\n",
    "ebi17 = ebi17.drop(['  HBNO', '  Name of Bull', '  Name of Sire', '  Name of Dam'], axis = 1) \n",
    "#dropping duplicated features in the 2017 dataset\n",
    "ebi17 = ebi17.drop(['Production Trait Evaluation Rel %', 'Fertility and Survival Evaluation REL %'], axis = 1)"
   ]
  },
  {
   "cell_type": "markdown",
   "metadata": {},
   "source": [
    "### Cleaning the 2017 dataset"
   ]
  },
  {
   "cell_type": "code",
   "execution_count": 4,
   "metadata": {},
   "outputs": [],
   "source": [
    "#dropping rows that showed data loading problems, which are DP bulls anyway\n",
    "ebi17 = ebi17.drop(list(ebi17[ebi17.iloc[:,1].isna()].index))"
   ]
  },
  {
   "cell_type": "code",
   "execution_count": 5,
   "metadata": {},
   "outputs": [],
   "source": [
    "#dropping columns with only one value (no discriminatory power)\n",
    "h = []\n",
    "for i in ebi17.columns:\n",
    "    h += [len(ebi17[i].value_counts())]\n",
    "ebi17 = ebi17.drop(ebi17.columns[pd.DataFrame(h)[pd.DataFrame(h)[0] == 1][0].index], axis = 1)"
   ]
  },
  {
   "cell_type": "code",
   "execution_count": 6,
   "metadata": {},
   "outputs": [],
   "source": [
    "#Changing the excel date to year\n",
    "ebi17[' Birth Date'] = (pd.TimedeltaIndex(ebi17[' Birth Date'], unit='d') + dt.datetime(1900,1,1)).year"
   ]
  },
  {
   "cell_type": "markdown",
   "metadata": {},
   "source": [
    "### Missing values in categorical features\n",
    "There are 203 missing values in the \"Type of Proof\" feature. This is a crucial feature, therefore I'll try to fill them based on the existance of theyr progeny's lactation data."
   ]
  },
  {
   "cell_type": "markdown",
   "metadata": {},
   "source": [
    "I'm going to use a Decision Tree Classifier to fill the missing proof values"
   ]
  },
  {
   "cell_type": "code",
   "execution_count": 8,
   "metadata": {
    "collapsed": true
   },
   "outputs": [
    {
     "name": "stderr",
     "output_type": "stream",
     "text": [
      "C:\\Users\\emili\\AppData\\Local\\Temp\\ipykernel_221912\\1152308947.py:3: SettingWithCopyWarning: \n",
      "A value is trying to be set on a copy of a slice from a DataFrame\n",
      "\n",
      "See the caveats in the documentation: https://pandas.pydata.org/pandas-docs/stable/user_guide/indexing.html#returning-a-view-versus-a-copy\n",
      "  fill[' Type of  Proof'][fill[' Type of  Proof']=='GS'] = 1\n",
      "C:\\Users\\emili\\AppData\\Local\\Temp\\ipykernel_221912\\1152308947.py:3: SettingWithCopyWarning: \n",
      "A value is trying to be set on a copy of a slice from a DataFrame\n",
      "\n",
      "See the caveats in the documentation: https://pandas.pydata.org/pandas-docs/stable/user_guide/indexing.html#returning-a-view-versus-a-copy\n",
      "  fill[' Type of  Proof'][fill[' Type of  Proof']=='GS'] = 1\n",
      "C:\\Users\\emili\\AppData\\Local\\Temp\\ipykernel_221912\\1152308947.py:4: SettingWithCopyWarning: \n",
      "A value is trying to be set on a copy of a slice from a DataFrame\n",
      "\n",
      "See the caveats in the documentation: https://pandas.pydata.org/pandas-docs/stable/user_guide/indexing.html#returning-a-view-versus-a-copy\n",
      "  fill[' Type of  Proof'][fill[' Type of  Proof']!=1] = 0\n",
      "C:\\Users\\emili\\AppData\\Local\\Temp\\ipykernel_221912\\1152308947.py:4: SettingWithCopyWarning: \n",
      "A value is trying to be set on a copy of a slice from a DataFrame\n",
      "\n",
      "See the caveats in the documentation: https://pandas.pydata.org/pandas-docs/stable/user_guide/indexing.html#returning-a-view-versus-a-copy\n",
      "  fill[' Type of  Proof'][fill[' Type of  Proof']!=1] = 0\n"
     ]
    }
   ],
   "source": [
    "#Preparing the data to fit it to the model\n",
    "fill = ebi17[ebi17[' Type of  Proof'] != '0']\n",
    "fill[' Type of  Proof'][fill[' Type of  Proof']=='GS'] = 1\n",
    "fill[' Type of  Proof'][fill[' Type of  Proof']!=1] = 0"
   ]
  },
  {
   "cell_type": "code",
   "execution_count": 10,
   "metadata": {},
   "outputs": [],
   "source": [
    "X, y = fill.iloc[:,[1, 5, 6, 7, 8, 9, 10, 11, 12, 13, 14, 15, 16, 17, 18, 19, 20, 24, 25, 26, 27, 28, 29, 30]], fill[' Type of  Proof'].astype('int')"
   ]
  },
  {
   "cell_type": "code",
   "execution_count": 11,
   "metadata": {},
   "outputs": [],
   "source": [
    "#splitting the data for training and testing\n",
    "X_train, X_test, y_train, y_test = train_test_split(X, y, test_size=0.2, random_state=42)"
   ]
  },
  {
   "cell_type": "code",
   "execution_count": 12,
   "metadata": {},
   "outputs": [
    {
     "data": {
      "text/plain": [
       "0.9552238805970149"
      ]
     },
     "execution_count": 12,
     "metadata": {},
     "output_type": "execute_result"
    }
   ],
   "source": [
    "#training and testing the model\n",
    "clf = DecisionTreeClassifier(random_state=2)\n",
    "clf = clf.fit(X_train,y_train)\n",
    "y_pred = clf.predict(X_test)\n",
    "print('Recall Score =', recall_score(y_test, y_pred))"
   ]
  },
  {
   "cell_type": "code",
   "execution_count": 13,
   "metadata": {},
   "outputs": [
    {
     "data": {
      "image/png": "[encoded data removed]",
      "text/plain": [
       "<Figure size 360x360 with 1 Axes>"
      ]
     },
     "metadata": {
      "needs_background": "light"
     },
     "output_type": "display_data"
    }
   ],
   "source": [
    "#Displaying the model performance with a confusion matrix\n",
    "conf_matrix = confusion_matrix(y_true=y_test, y_pred=y_pred)\n",
    "fig, ax = plt.subplots(figsize=(5, 5))\n",
    "ax.matshow(conf_matrix, cmap=plt.cm.Oranges, alpha=0.3)\n",
    "for i in range(conf_matrix.shape[0]):\n",
    "    for j in range(conf_matrix.shape[1]):\n",
    "        ax.text(x=j, y=i,s=conf_matrix[i, j], va='center', ha='center', size='xx-large')\n",
    " \n",
    "plt.xlabel('Predictions', fontsize=18)\n",
    "plt.ylabel('Actuals', fontsize=18)\n",
    "plt.title('Decision Tree', fontsize=22)\n",
    "plt.show()"
   ]
  },
  {
   "cell_type": "markdown",
   "metadata": {},
   "source": [
    "The decision tree looks reliable enough to fill the missing values"
   ]
  },
  {
   "cell_type": "code",
   "execution_count": 14,
   "metadata": {},
   "outputs": [],
   "source": [
    "X_fill = ebi17[ebi17[' Type of  Proof'] == '0'].iloc[:,[1, 5, 6, 7, 8, 9, 10, 11, 12, 13, 14, 15, 16, 17, 18, 19, 20, 24, 25, 26, 27, 28, 29, 30]]"
   ]
  },
  {
   "cell_type": "code",
   "execution_count": 15,
   "metadata": {
    "collapsed": true
   },
   "outputs": [
    {
     "name": "stderr",
     "output_type": "stream",
     "text": [
      "C:\\Users\\emili\\AppData\\Local\\Temp\\ipykernel_221912\\779884531.py:1: SettingWithCopyWarning: \n",
      "A value is trying to be set on a copy of a slice from a DataFrame\n",
      "\n",
      "See the caveats in the documentation: https://pandas.pydata.org/pandas-docs/stable/user_guide/indexing.html#returning-a-view-versus-a-copy\n",
      "  ebi17[' Type of  Proof'][list(X_fill[list(clf.predict(X_fill)==1)].index)] = 'GS'\n"
     ]
    }
   ],
   "source": [
    "ebi17[' Type of  Proof'][list(X_fill[list(clf.predict(X_fill)==1)].index)] = 'GS'"
   ]
  },
  {
   "cell_type": "code",
   "execution_count": 16,
   "metadata": {},
   "outputs": [
    {
     "data": {
      "text/plain": [
       "DP-IRL        2515\n",
       "DP-INT        1214\n",
       "GS             413\n",
       "0               81\n",
       "CONVERSION      20\n",
       "Name:  Type of  Proof, dtype: int64"
      ]
     },
     "execution_count": 16,
     "metadata": {},
     "output_type": "execute_result"
    }
   ],
   "source": [
    "ebi17[' Type of  Proof'].value_counts()"
   ]
  },
  {
   "cell_type": "code",
   "execution_count": 17,
   "metadata": {},
   "outputs": [],
   "source": [
    "#Dropping all DP and CONVERSION bulls\n",
    "ebi17 = ebi17[ebi17[' Type of  Proof'] == 'GS']"
   ]
  },
  {
   "cell_type": "code",
   "execution_count": 18,
   "metadata": {},
   "outputs": [
    {
     "data": {
      "text/plain": [
       "413    86\n",
       "Name: 0, dtype: int64"
      ]
     },
     "execution_count": 18,
     "metadata": {},
     "output_type": "execute_result"
    }
   ],
   "source": [
    "pd.DataFrame(ebi17.describe(include = 'all').iloc[0].values)[0].value_counts()"
   ]
  },
  {
   "cell_type": "code",
   "execution_count": 19,
   "metadata": {},
   "outputs": [],
   "source": [
    "ebi17 = ebi17.reset_index()\n",
    "ebi17 = ebi17.drop('index', axis = 1)"
   ]
  },
  {
   "cell_type": "markdown",
   "metadata": {},
   "source": [
    "### Cleaning the 2022 dataset:"
   ]
  },
  {
   "cell_type": "code",
   "execution_count": 21,
   "metadata": {},
   "outputs": [
    {
     "data": {
      "text/html": [
       "<div>\n",
       "<style scoped>\n",
       "    .dataframe tbody tr th:only-of-type {\n",
       "        vertical-align: middle;\n",
       "    }\n",
       "\n",
       "    .dataframe tbody tr th {\n",
       "        vertical-align: top;\n",
       "    }\n",
       "\n",
       "    .dataframe thead th {\n",
       "        text-align: right;\n",
       "    }\n",
       "</style>\n",
       "<table border=\"1\" class=\"dataframe\">\n",
       "  <thead>\n",
       "    <tr style=\"text-align: right;\">\n",
       "      <th></th>\n",
       "      <th>Bull</th>\n",
       "      <th>Proof Type</th>\n",
       "      <th>EBI</th>\n",
       "      <th>Milk SI</th>\n",
       "      <th>Fert SI</th>\n",
       "      <th>Calv SI</th>\n",
       "      <th>Beef SI</th>\n",
       "      <th>Maint SI</th>\n",
       "      <th>Mgt SI</th>\n",
       "      <th>Health SI</th>\n",
       "      <th>Milk kg</th>\n",
       "      <th>Fat kg</th>\n",
       "      <th>Protein kg</th>\n",
       "      <th>Calv. Int [days]</th>\n",
       "      <th>Survival %</th>\n",
       "    </tr>\n",
       "  </thead>\n",
       "  <tbody>\n",
       "    <tr>\n",
       "      <th>count</th>\n",
       "      <td>5708</td>\n",
       "      <td>5708</td>\n",
       "      <td>5708.000000</td>\n",
       "      <td>5708.000000</td>\n",
       "      <td>5708.000000</td>\n",
       "      <td>5708.000000</td>\n",
       "      <td>5708.000000</td>\n",
       "      <td>5708.000000</td>\n",
       "      <td>5708.000000</td>\n",
       "      <td>5708.000000</td>\n",
       "      <td>5708.000000</td>\n",
       "      <td>5708.000000</td>\n",
       "      <td>5708.000000</td>\n",
       "      <td>5708.000000</td>\n",
       "      <td>5708.000000</td>\n",
       "    </tr>\n",
       "    <tr>\n",
       "      <th>unique</th>\n",
       "      <td>5708</td>\n",
       "      <td>4</td>\n",
       "      <td>NaN</td>\n",
       "      <td>NaN</td>\n",
       "      <td>NaN</td>\n",
       "      <td>NaN</td>\n",
       "      <td>NaN</td>\n",
       "      <td>NaN</td>\n",
       "      <td>NaN</td>\n",
       "      <td>NaN</td>\n",
       "      <td>NaN</td>\n",
       "      <td>NaN</td>\n",
       "      <td>NaN</td>\n",
       "      <td>NaN</td>\n",
       "      <td>NaN</td>\n",
       "    </tr>\n",
       "    <tr>\n",
       "      <th>top</th>\n",
       "      <td>FR7143</td>\n",
       "      <td>DP-IRL</td>\n",
       "      <td>NaN</td>\n",
       "      <td>NaN</td>\n",
       "      <td>NaN</td>\n",
       "      <td>NaN</td>\n",
       "      <td>NaN</td>\n",
       "      <td>NaN</td>\n",
       "      <td>NaN</td>\n",
       "      <td>NaN</td>\n",
       "      <td>NaN</td>\n",
       "      <td>NaN</td>\n",
       "      <td>NaN</td>\n",
       "      <td>NaN</td>\n",
       "      <td>NaN</td>\n",
       "    </tr>\n",
       "    <tr>\n",
       "      <th>freq</th>\n",
       "      <td>1</td>\n",
       "      <td>3440</td>\n",
       "      <td>NaN</td>\n",
       "      <td>NaN</td>\n",
       "      <td>NaN</td>\n",
       "      <td>NaN</td>\n",
       "      <td>NaN</td>\n",
       "      <td>NaN</td>\n",
       "      <td>NaN</td>\n",
       "      <td>NaN</td>\n",
       "      <td>NaN</td>\n",
       "      <td>NaN</td>\n",
       "      <td>NaN</td>\n",
       "      <td>NaN</td>\n",
       "      <td>NaN</td>\n",
       "    </tr>\n",
       "    <tr>\n",
       "      <th>mean</th>\n",
       "      <td>NaN</td>\n",
       "      <td>NaN</td>\n",
       "      <td>46.731079</td>\n",
       "      <td>29.131219</td>\n",
       "      <td>-0.348809</td>\n",
       "      <td>13.301507</td>\n",
       "      <td>-11.988612</td>\n",
       "      <td>14.216713</td>\n",
       "      <td>0.100210</td>\n",
       "      <td>2.327786</td>\n",
       "      <td>76.546664</td>\n",
       "      <td>5.615804</td>\n",
       "      <td>4.139128</td>\n",
       "      <td>0.263958</td>\n",
       "      <td>0.239366</td>\n",
       "    </tr>\n",
       "    <tr>\n",
       "      <th>std</th>\n",
       "      <td>NaN</td>\n",
       "      <td>NaN</td>\n",
       "      <td>128.438439</td>\n",
       "      <td>48.127577</td>\n",
       "      <td>79.912782</td>\n",
       "      <td>29.049803</td>\n",
       "      <td>16.617794</td>\n",
       "      <td>17.172319</td>\n",
       "      <td>5.688403</td>\n",
       "      <td>10.443904</td>\n",
       "      <td>269.219211</td>\n",
       "      <td>9.269298</td>\n",
       "      <td>7.959668</td>\n",
       "      <td>4.471029</td>\n",
       "      <td>2.209793</td>\n",
       "    </tr>\n",
       "    <tr>\n",
       "      <th>min</th>\n",
       "      <td>NaN</td>\n",
       "      <td>NaN</td>\n",
       "      <td>-459.000000</td>\n",
       "      <td>-129.000000</td>\n",
       "      <td>-350.000000</td>\n",
       "      <td>-284.000000</td>\n",
       "      <td>-94.000000</td>\n",
       "      <td>-37.000000</td>\n",
       "      <td>-25.000000</td>\n",
       "      <td>-32.000000</td>\n",
       "      <td>-953.060000</td>\n",
       "      <td>-30.450000</td>\n",
       "      <td>-26.080000</td>\n",
       "      <td>-14.710000</td>\n",
       "      <td>-9.780000</td>\n",
       "    </tr>\n",
       "    <tr>\n",
       "      <th>25%</th>\n",
       "      <td>NaN</td>\n",
       "      <td>NaN</td>\n",
       "      <td>-49.000000</td>\n",
       "      <td>-6.000000</td>\n",
       "      <td>-53.000000</td>\n",
       "      <td>-2.000000</td>\n",
       "      <td>-16.000000</td>\n",
       "      <td>4.000000</td>\n",
       "      <td>-3.000000</td>\n",
       "      <td>-5.000000</td>\n",
       "      <td>-95.372500</td>\n",
       "      <td>-0.762500</td>\n",
       "      <td>-1.322500</td>\n",
       "      <td>-2.962500</td>\n",
       "      <td>-1.200000</td>\n",
       "    </tr>\n",
       "    <tr>\n",
       "      <th>50%</th>\n",
       "      <td>NaN</td>\n",
       "      <td>NaN</td>\n",
       "      <td>55.000000</td>\n",
       "      <td>28.000000</td>\n",
       "      <td>12.000000</td>\n",
       "      <td>17.000000</td>\n",
       "      <td>-9.000000</td>\n",
       "      <td>11.000000</td>\n",
       "      <td>0.000000</td>\n",
       "      <td>2.000000</td>\n",
       "      <td>83.010000</td>\n",
       "      <td>5.555000</td>\n",
       "      <td>4.175000</td>\n",
       "      <td>-0.280000</td>\n",
       "      <td>0.640000</td>\n",
       "    </tr>\n",
       "    <tr>\n",
       "      <th>75%</th>\n",
       "      <td>NaN</td>\n",
       "      <td>NaN</td>\n",
       "      <td>149.000000</td>\n",
       "      <td>65.000000</td>\n",
       "      <td>58.000000</td>\n",
       "      <td>34.000000</td>\n",
       "      <td>-4.000000</td>\n",
       "      <td>20.000000</td>\n",
       "      <td>4.000000</td>\n",
       "      <td>9.000000</td>\n",
       "      <td>251.797500</td>\n",
       "      <td>12.272500</td>\n",
       "      <td>9.732500</td>\n",
       "      <td>3.300000</td>\n",
       "      <td>1.910000</td>\n",
       "    </tr>\n",
       "    <tr>\n",
       "      <th>max</th>\n",
       "      <td>NaN</td>\n",
       "      <td>NaN</td>\n",
       "      <td>368.000000</td>\n",
       "      <td>158.000000</td>\n",
       "      <td>202.000000</td>\n",
       "      <td>74.000000</td>\n",
       "      <td>46.000000</td>\n",
       "      <td>100.000000</td>\n",
       "      <td>19.000000</td>\n",
       "      <td>39.000000</td>\n",
       "      <td>933.200000</td>\n",
       "      <td>33.640000</td>\n",
       "      <td>26.850000</td>\n",
       "      <td>18.160000</td>\n",
       "      <td>5.920000</td>\n",
       "    </tr>\n",
       "  </tbody>\n",
       "</table>\n",
       "</div>"
      ],
      "text/plain": [
       "          Bull Proof Type          EBI      Milk SI      Fert SI      Calv SI  \\\n",
       "count     5708       5708  5708.000000  5708.000000  5708.000000  5708.000000   \n",
       "unique    5708          4          NaN          NaN          NaN          NaN   \n",
       "top     FR7143    DP-IRL           NaN          NaN          NaN          NaN   \n",
       "freq         1       3440          NaN          NaN          NaN          NaN   \n",
       "mean       NaN        NaN    46.731079    29.131219    -0.348809    13.301507   \n",
       "std        NaN        NaN   128.438439    48.127577    79.912782    29.049803   \n",
       "min        NaN        NaN  -459.000000  -129.000000  -350.000000  -284.000000   \n",
       "25%        NaN        NaN   -49.000000    -6.000000   -53.000000    -2.000000   \n",
       "50%        NaN        NaN    55.000000    28.000000    12.000000    17.000000   \n",
       "75%        NaN        NaN   149.000000    65.000000    58.000000    34.000000   \n",
       "max        NaN        NaN   368.000000   158.000000   202.000000    74.000000   \n",
       "\n",
       "            Beef SI     Maint SI       Mgt SI    Health SI      Milk kg  \\\n",
       "count   5708.000000  5708.000000  5708.000000  5708.000000  5708.000000   \n",
       "unique          NaN          NaN          NaN          NaN          NaN   \n",
       "top             NaN          NaN          NaN          NaN          NaN   \n",
       "freq            NaN          NaN          NaN          NaN          NaN   \n",
       "mean     -11.988612    14.216713     0.100210     2.327786    76.546664   \n",
       "std       16.617794    17.172319     5.688403    10.443904   269.219211   \n",
       "min      -94.000000   -37.000000   -25.000000   -32.000000  -953.060000   \n",
       "25%      -16.000000     4.000000    -3.000000    -5.000000   -95.372500   \n",
       "50%       -9.000000    11.000000     0.000000     2.000000    83.010000   \n",
       "75%       -4.000000    20.000000     4.000000     9.000000   251.797500   \n",
       "max       46.000000   100.000000    19.000000    39.000000   933.200000   \n",
       "\n",
       "             Fat kg   Protein kg  Calv. Int [days]   Survival %  \n",
       "count   5708.000000  5708.000000       5708.000000  5708.000000  \n",
       "unique          NaN          NaN               NaN          NaN  \n",
       "top             NaN          NaN               NaN          NaN  \n",
       "freq            NaN          NaN               NaN          NaN  \n",
       "mean       5.615804     4.139128          0.263958     0.239366  \n",
       "std        9.269298     7.959668          4.471029     2.209793  \n",
       "min      -30.450000   -26.080000        -14.710000    -9.780000  \n",
       "25%       -0.762500    -1.322500         -2.962500    -1.200000  \n",
       "50%        5.555000     4.175000         -0.280000     0.640000  \n",
       "75%       12.272500     9.732500          3.300000     1.910000  \n",
       "max       33.640000    26.850000         18.160000     5.920000  "
      ]
     },
     "execution_count": 21,
     "metadata": {},
     "output_type": "execute_result"
    }
   ],
   "source": [
    "ebi22.describe(include='all')"
   ]
  },
  {
   "cell_type": "code",
   "execution_count": 22,
   "metadata": {},
   "outputs": [],
   "source": [
    "cero = ebi22.replace('  ', np.nan)"
   ]
  },
  {
   "cell_type": "code",
   "execution_count": 23,
   "metadata": {},
   "outputs": [
    {
     "data": {
      "text/plain": [
       "5708    14\n",
       "5486     1\n",
       "Name: count, dtype: int64"
      ]
     },
     "execution_count": 23,
     "metadata": {},
     "output_type": "execute_result"
    }
   ],
   "source": [
    "cero.describe(include = 'all').iloc[0].value_counts()"
   ]
  },
  {
   "cell_type": "markdown",
   "metadata": {},
   "source": [
    "There are missing values in the 'Proof Type' column. I'm using a decision tree classifier again to fill this values."
   ]
  },
  {
   "cell_type": "code",
   "execution_count": 24,
   "metadata": {
    "collapsed": true
   },
   "outputs": [
    {
     "name": "stderr",
     "output_type": "stream",
     "text": [
      "C:\\Users\\emili\\AppData\\Local\\Temp\\ipykernel_221912\\2711586303.py:4: SettingWithCopyWarning: \n",
      "A value is trying to be set on a copy of a slice from a DataFrame\n",
      "\n",
      "See the caveats in the documentation: https://pandas.pydata.org/pandas-docs/stable/user_guide/indexing.html#returning-a-view-versus-a-copy\n",
      "  e22['Proof Type'][e22['Proof Type']=='DP-INT ']=1\n",
      "C:\\Users\\emili\\AppData\\Local\\Temp\\ipykernel_221912\\2711586303.py:5: SettingWithCopyWarning: \n",
      "A value is trying to be set on a copy of a slice from a DataFrame\n",
      "\n",
      "See the caveats in the documentation: https://pandas.pydata.org/pandas-docs/stable/user_guide/indexing.html#returning-a-view-versus-a-copy\n",
      "  e22['Proof Type'][e22['Proof Type']=='DP-IRL ']=1\n",
      "C:\\Users\\emili\\AppData\\Local\\Temp\\ipykernel_221912\\2711586303.py:6: SettingWithCopyWarning: \n",
      "A value is trying to be set on a copy of a slice from a DataFrame\n",
      "\n",
      "See the caveats in the documentation: https://pandas.pydata.org/pandas-docs/stable/user_guide/indexing.html#returning-a-view-versus-a-copy\n",
      "  e22['Proof Type'][e22['Proof Type']=='GS ']=0\n"
     ]
    }
   ],
   "source": [
    "# I have to load the full dataset again to apply the decision tree with all the columns\n",
    "e22 = pd.read_csv(r\"C:\\Users\\emili\\OneDrive\\Escritorio\\NUIG\\Proyect\\datos.csv\")\n",
    "#e22 = data22\n",
    "e22['Proof Type'][e22['Proof Type']=='DP-INT ']=1\n",
    "e22['Proof Type'][e22['Proof Type']=='DP-IRL ']=1\n",
    "e22['Proof Type'][e22['Proof Type']=='GS ']=0\n",
    "e22 = e22[e22['Proof Type'] != '  ']"
   ]
  },
  {
   "cell_type": "code",
   "execution_count": 25,
   "metadata": {},
   "outputs": [
    {
     "data": {
      "text/plain": [
       "1    4901\n",
       "0     585\n",
       "Name: Proof Type, dtype: int64"
      ]
     },
     "execution_count": 25,
     "metadata": {},
     "output_type": "execute_result"
    }
   ],
   "source": [
    "e22['Proof Type'].value_counts()"
   ]
  },
  {
   "cell_type": "code",
   "execution_count": 26,
   "metadata": {},
   "outputs": [],
   "source": [
    "X, y = e22[list(e22.columns[e22.dtypes!='object'])], e22['Proof Type'].astype('int')"
   ]
  },
  {
   "cell_type": "code",
   "execution_count": 27,
   "metadata": {},
   "outputs": [],
   "source": [
    "#Splitting the data for training and testing\n",
    "X_train, X_test, y_train, y_test = train_test_split(X, y, test_size=0.2, random_state=42)"
   ]
  },
  {
   "cell_type": "code",
   "execution_count": 28,
   "metadata": {},
   "outputs": [
    {
     "data": {
      "text/plain": [
       "0.9969450101832994"
      ]
     },
     "execution_count": 28,
     "metadata": {},
     "output_type": "execute_result"
    }
   ],
   "source": [
    "#Training and testing the model\n",
    "clf = DecisionTreeClassifier(random_state=1)\n",
    "clf = clf.fit(X_train,y_train)\n",
    "y_pred = clf.predict(X_test)\n",
    "print('Recall Score =', recall_score(y_test, y_pred))"
   ]
  },
  {
   "cell_type": "markdown",
   "metadata": {},
   "source": [
    "Again, the decision tree looks reliable enough to fill the missing values"
   ]
  },
  {
   "cell_type": "code",
   "execution_count": 29,
   "metadata": {},
   "outputs": [],
   "source": [
    "f22 = pd.read_csv(r\"C:\\Users\\emili\\OneDrive\\Escritorio\\NUIG\\Proyect\\datos.csv\")\n",
    "X_fill = f22[f22['Proof Type']=='  '][list(e22.columns[e22.dtypes!='object'])]"
   ]
  },
  {
   "cell_type": "code",
   "execution_count": 30,
   "metadata": {},
   "outputs": [],
   "source": [
    "ebi22 = pd.read_csv(r\"C:\\Users\\emili\\OneDrive\\Escritorio\\NUIG\\Proyect\\datos.csv\")\n",
    "fill_ind = X_fill[list(clf.predict(X_fill)==1)].index"
   ]
  },
  {
   "cell_type": "code",
   "execution_count": 31,
   "metadata": {
    "collapsed": true
   },
   "outputs": [
    {
     "name": "stderr",
     "output_type": "stream",
     "text": [
      "C:\\Users\\emili\\AppData\\Local\\Temp\\ipykernel_221912\\2735386890.py:2: SettingWithCopyWarning: \n",
      "A value is trying to be set on a copy of a slice from a DataFrame\n",
      "\n",
      "See the caveats in the documentation: https://pandas.pydata.org/pandas-docs/stable/user_guide/indexing.html#returning-a-view-versus-a-copy\n",
      "  ebi22['Proof Type'][i] = 'DP-IRL '\n"
     ]
    }
   ],
   "source": [
    "for i in fill_ind:\n",
    "    ebi22['Proof Type'][i] = 'DP-IRL '"
   ]
  },
  {
   "cell_type": "code",
   "execution_count": 32,
   "metadata": {},
   "outputs": [],
   "source": [
    "ebi22 = ebi22.iloc[:,[0, 8, 9, 11, 13, 15, 17, 19, 21, 23, 27, 28, 29, 34, 35]]"
   ]
  },
  {
   "cell_type": "markdown",
   "metadata": {},
   "source": [
    "## Part 2: Merging and Pre-processing"
   ]
  },
  {
   "cell_type": "code",
   "execution_count": 33,
   "metadata": {},
   "outputs": [],
   "source": [
    "#merging the datasets with the bull code as 'primary key'\n",
    "df = pd.merge(ebi17, ebi22, how='inner', left_on = ' AI CODE', right_on = 'Bull')"
   ]
  },
  {
   "cell_type": "code",
   "execution_count": 34,
   "metadata": {},
   "outputs": [
    {
     "data": {
      "text/plain": [
       "Index(['DP-IRL ', 'DP-INT ', 'GS ', '  '], dtype='object')"
      ]
     },
     "execution_count": 34,
     "metadata": {},
     "output_type": "execute_result"
    }
   ],
   "source": [
    "df['Proof Type'].value_counts().keys()"
   ]
  },
  {
   "cell_type": "markdown",
   "metadata": {},
   "source": [
    "Dropping columns that are now useless and bulls that are not DP in 2022"
   ]
  },
  {
   "cell_type": "code",
   "execution_count": 35,
   "metadata": {
    "scrolled": true
   },
   "outputs": [],
   "source": [
    "df['Proof Type'] = df['Proof Type'].replace(['DP-IRL ','DP-INT '], 'DP')\n",
    "df = df[df['Proof Type'] == 'DP']\n",
    "df = df.drop([' AI CODE', ' Type of  Proof', 'Bull', 'Proof Type', ' Test Stat'], axis = 1)"
   ]
  },
  {
   "cell_type": "code",
   "execution_count": 36,
   "metadata": {},
   "outputs": [
    {
     "data": {
      "text/plain": [
       "379.0    96\n",
       "Name: count, dtype: int64"
      ]
     },
     "execution_count": 36,
     "metadata": {},
     "output_type": "execute_result"
    }
   ],
   "source": [
    "df.describe(include = 'all').iloc[0].value_counts()"
   ]
  },
  {
   "cell_type": "code",
   "execution_count": 37,
   "metadata": {
    "scrolled": true
   },
   "outputs": [],
   "source": [
    "df = df.reset_index().iloc[:,1:]"
   ]
  },
  {
   "cell_type": "markdown",
   "metadata": {},
   "source": [
    "### The merging was successfully completed, now it's time to prepare the data to be fitted to the models"
   ]
  },
  {
   "cell_type": "code",
   "execution_count": 38,
   "metadata": {},
   "outputs": [
    {
     "data": {
      "text/plain": [
       "[' Main Breed', ' Owner Name', '  Cat']"
      ]
     },
     "execution_count": 38,
     "metadata": {},
     "output_type": "execute_result"
    }
   ],
   "source": [
    "#transforming categorical variables to numeric\n",
    "cat = list(df.columns[df.dtypes=='object'])\n",
    "cat"
   ]
  },
  {
   "cell_type": "code",
   "execution_count": 39,
   "metadata": {},
   "outputs": [
    {
     "data": {
      "text/plain": [
       "32"
      ]
     },
     "execution_count": 39,
     "metadata": {},
     "output_type": "execute_result"
    }
   ],
   "source": [
    "s = 0\n",
    "for i in cat:\n",
    "    s += len(df[i].value_counts())\n",
    "s"
   ]
  },
  {
   "cell_type": "markdown",
   "metadata": {},
   "source": [
    "There are 3 categorical features, adding up to 32 different values. Performing one-hot encoding would largely increase the number of columns in my dataset. For that, I'm going to perform costum binary encoding on the features \"Main Breed\" and \"Cat\" (that now will be \"Main Breed = Holstein\" and \"Cat = Pedigree\"), one-hot encoding on the feature \"Owner Name\" but only using the 4 most frequent owners (78% of the total)."
   ]
  },
  {
   "cell_type": "code",
   "execution_count": 40,
   "metadata": {},
   "outputs": [
    {
     "name": "stderr",
     "output_type": "stream",
     "text": [
      "C:\\Users\\emili\\AppData\\Local\\Temp\\ipykernel_221912\\1919065709.py:1: SettingWithCopyWarning: \n",
      "A value is trying to be set on a copy of a slice from a DataFrame\n",
      "\n",
      "See the caveats in the documentation: https://pandas.pydata.org/pandas-docs/stable/user_guide/indexing.html#returning-a-view-versus-a-copy\n",
      "  df[' Main Breed'][df[' Main Breed']=='HO'] = 1\n",
      "C:\\Users\\emili\\AppData\\Local\\Temp\\ipykernel_221912\\1919065709.py:2: SettingWithCopyWarning: \n",
      "A value is trying to be set on a copy of a slice from a DataFrame\n",
      "\n",
      "See the caveats in the documentation: https://pandas.pydata.org/pandas-docs/stable/user_guide/indexing.html#returning-a-view-versus-a-copy\n",
      "  df[' Main Breed'][df[' Main Breed']!='HO'] = 0\n",
      "C:\\Users\\emili\\AppData\\Local\\Temp\\ipykernel_221912\\1919065709.py:3: SettingWithCopyWarning: \n",
      "A value is trying to be set on a copy of a slice from a DataFrame\n",
      "\n",
      "See the caveats in the documentation: https://pandas.pydata.org/pandas-docs/stable/user_guide/indexing.html#returning-a-view-versus-a-copy\n",
      "  df['  Cat'][df['  Cat']=='PED'] = 1\n",
      "C:\\Users\\emili\\AppData\\Local\\Temp\\ipykernel_221912\\1919065709.py:4: SettingWithCopyWarning: \n",
      "A value is trying to be set on a copy of a slice from a DataFrame\n",
      "\n",
      "See the caveats in the documentation: https://pandas.pydata.org/pandas-docs/stable/user_guide/indexing.html#returning-a-view-versus-a-copy\n",
      "  df['  Cat'][df['  Cat']!='PED'] = 0\n"
     ]
    }
   ],
   "source": [
    "df[' Main Breed'][df[' Main Breed']=='HO'] = 1\n",
    "df[' Main Breed'][df[' Main Breed']!='HO'] = 0\n",
    "df['  Cat'][df['  Cat']=='PED'] = 1\n",
    "df['  Cat'][df['  Cat']!='PED'] = 0\n",
    "df = df.rename(columns={' Main Breed':'Main Breed = HO', '  Cat':'Cat = Ped'})\n",
    "df['Main Breed = HO'] = df['Main Breed = HO'].astype('int')\n",
    "df['Cat = Ped'] = df['Cat = Ped'].astype('int')"
   ]
  },
  {
   "cell_type": "code",
   "execution_count": 41,
   "metadata": {},
   "outputs": [
    {
     "name": "stderr",
     "output_type": "stream",
     "text": [
      "C:\\Users\\emili\\AppData\\Local\\Temp\\ipykernel_221912\\2324923324.py:3: SettingWithCopyWarning: \n",
      "A value is trying to be set on a copy of a slice from a DataFrame\n",
      "\n",
      "See the caveats in the documentation: https://pandas.pydata.org/pandas-docs/stable/user_guide/indexing.html#returning-a-view-versus-a-copy\n",
      "  df[' Owner Name'][i] = 'other'\n",
      "C:\\Users\\emili\\AppData\\Local\\Temp\\ipykernel_221912\\2324923324.py:3: SettingWithCopyWarning: \n",
      "A value is trying to be set on a copy of a slice from a DataFrame\n",
      "\n",
      "See the caveats in the documentation: https://pandas.pydata.org/pandas-docs/stable/user_guide/indexing.html#returning-a-view-versus-a-copy\n",
      "  df[' Owner Name'][i] = 'other'\n",
      "C:\\Users\\emili\\AppData\\Local\\Temp\\ipykernel_221912\\2324923324.py:3: SettingWithCopyWarning: \n",
      "A value is trying to be set on a copy of a slice from a DataFrame\n",
      "\n",
      "See the caveats in the documentation: https://pandas.pydata.org/pandas-docs/stable/user_guide/indexing.html#returning-a-view-versus-a-copy\n",
      "  df[' Owner Name'][i] = 'other'\n",
      "C:\\Users\\emili\\AppData\\Local\\Temp\\ipykernel_221912\\2324923324.py:3: SettingWithCopyWarning: \n",
      "A value is trying to be set on a copy of a slice from a DataFrame\n",
      "\n",
      "See the caveats in the documentation: https://pandas.pydata.org/pandas-docs/stable/user_guide/indexing.html#returning-a-view-versus-a-copy\n",
      "  df[' Owner Name'][i] = 'other'\n",
      "C:\\Users\\emili\\AppData\\Local\\Temp\\ipykernel_221912\\2324923324.py:3: SettingWithCopyWarning: \n",
      "A value is trying to be set on a copy of a slice from a DataFrame\n",
      "\n",
      "See the caveats in the documentation: https://pandas.pydata.org/pandas-docs/stable/user_guide/indexing.html#returning-a-view-versus-a-copy\n",
      "  df[' Owner Name'][i] = 'other'\n",
      "C:\\Users\\emili\\AppData\\Local\\Temp\\ipykernel_221912\\2324923324.py:3: SettingWithCopyWarning: \n",
      "A value is trying to be set on a copy of a slice from a DataFrame\n",
      "\n",
      "See the caveats in the documentation: https://pandas.pydata.org/pandas-docs/stable/user_guide/indexing.html#returning-a-view-versus-a-copy\n",
      "  df[' Owner Name'][i] = 'other'\n",
      "C:\\Users\\emili\\AppData\\Local\\Temp\\ipykernel_221912\\2324923324.py:3: SettingWithCopyWarning: \n",
      "A value is trying to be set on a copy of a slice from a DataFrame\n",
      "\n",
      "See the caveats in the documentation: https://pandas.pydata.org/pandas-docs/stable/user_guide/indexing.html#returning-a-view-versus-a-copy\n",
      "  df[' Owner Name'][i] = 'other'\n",
      "C:\\Users\\emili\\AppData\\Local\\Temp\\ipykernel_221912\\2324923324.py:3: SettingWithCopyWarning: \n",
      "A value is trying to be set on a copy of a slice from a DataFrame\n",
      "\n",
      "See the caveats in the documentation: https://pandas.pydata.org/pandas-docs/stable/user_guide/indexing.html#returning-a-view-versus-a-copy\n",
      "  df[' Owner Name'][i] = 'other'\n",
      "C:\\Users\\emili\\AppData\\Local\\Temp\\ipykernel_221912\\2324923324.py:3: SettingWithCopyWarning: \n",
      "A value is trying to be set on a copy of a slice from a DataFrame\n",
      "\n",
      "See the caveats in the documentation: https://pandas.pydata.org/pandas-docs/stable/user_guide/indexing.html#returning-a-view-versus-a-copy\n",
      "  df[' Owner Name'][i] = 'other'\n",
      "C:\\Users\\emili\\AppData\\Local\\Temp\\ipykernel_221912\\2324923324.py:3: SettingWithCopyWarning: \n",
      "A value is trying to be set on a copy of a slice from a DataFrame\n",
      "\n",
      "See the caveats in the documentation: https://pandas.pydata.org/pandas-docs/stable/user_guide/indexing.html#returning-a-view-versus-a-copy\n",
      "  df[' Owner Name'][i] = 'other'\n",
      "C:\\Users\\emili\\AppData\\Local\\Temp\\ipykernel_221912\\2324923324.py:3: SettingWithCopyWarning: \n",
      "A value is trying to be set on a copy of a slice from a DataFrame\n",
      "\n",
      "See the caveats in the documentation: https://pandas.pydata.org/pandas-docs/stable/user_guide/indexing.html#returning-a-view-versus-a-copy\n",
      "  df[' Owner Name'][i] = 'other'\n",
      "C:\\Users\\emili\\AppData\\Local\\Temp\\ipykernel_221912\\2324923324.py:3: SettingWithCopyWarning: \n",
      "A value is trying to be set on a copy of a slice from a DataFrame\n",
      "\n",
      "See the caveats in the documentation: https://pandas.pydata.org/pandas-docs/stable/user_guide/indexing.html#returning-a-view-versus-a-copy\n",
      "  df[' Owner Name'][i] = 'other'\n",
      "C:\\Users\\emili\\AppData\\Local\\Temp\\ipykernel_221912\\2324923324.py:3: SettingWithCopyWarning: \n",
      "A value is trying to be set on a copy of a slice from a DataFrame\n",
      "\n",
      "See the caveats in the documentation: https://pandas.pydata.org/pandas-docs/stable/user_guide/indexing.html#returning-a-view-versus-a-copy\n",
      "  df[' Owner Name'][i] = 'other'\n",
      "C:\\Users\\emili\\AppData\\Local\\Temp\\ipykernel_221912\\2324923324.py:3: SettingWithCopyWarning: \n",
      "A value is trying to be set on a copy of a slice from a DataFrame\n",
      "\n",
      "See the caveats in the documentation: https://pandas.pydata.org/pandas-docs/stable/user_guide/indexing.html#returning-a-view-versus-a-copy\n",
      "  df[' Owner Name'][i] = 'other'\n",
      "C:\\Users\\emili\\AppData\\Local\\Temp\\ipykernel_221912\\2324923324.py:3: SettingWithCopyWarning: \n",
      "A value is trying to be set on a copy of a slice from a DataFrame\n",
      "\n",
      "See the caveats in the documentation: https://pandas.pydata.org/pandas-docs/stable/user_guide/indexing.html#returning-a-view-versus-a-copy\n",
      "  df[' Owner Name'][i] = 'other'\n",
      "C:\\Users\\emili\\AppData\\Local\\Temp\\ipykernel_221912\\2324923324.py:3: SettingWithCopyWarning: \n",
      "A value is trying to be set on a copy of a slice from a DataFrame\n",
      "\n",
      "See the caveats in the documentation: https://pandas.pydata.org/pandas-docs/stable/user_guide/indexing.html#returning-a-view-versus-a-copy\n",
      "  df[' Owner Name'][i] = 'other'\n",
      "C:\\Users\\emili\\AppData\\Local\\Temp\\ipykernel_221912\\2324923324.py:3: SettingWithCopyWarning: \n",
      "A value is trying to be set on a copy of a slice from a DataFrame\n",
      "\n",
      "See the caveats in the documentation: https://pandas.pydata.org/pandas-docs/stable/user_guide/indexing.html#returning-a-view-versus-a-copy\n",
      "  df[' Owner Name'][i] = 'other'\n",
      "C:\\Users\\emili\\AppData\\Local\\Temp\\ipykernel_221912\\2324923324.py:3: SettingWithCopyWarning: \n",
      "A value is trying to be set on a copy of a slice from a DataFrame\n",
      "\n",
      "See the caveats in the documentation: https://pandas.pydata.org/pandas-docs/stable/user_guide/indexing.html#returning-a-view-versus-a-copy\n",
      "  df[' Owner Name'][i] = 'other'\n",
      "C:\\Users\\emili\\AppData\\Local\\Temp\\ipykernel_221912\\2324923324.py:3: SettingWithCopyWarning: \n",
      "A value is trying to be set on a copy of a slice from a DataFrame\n",
      "\n",
      "See the caveats in the documentation: https://pandas.pydata.org/pandas-docs/stable/user_guide/indexing.html#returning-a-view-versus-a-copy\n",
      "  df[' Owner Name'][i] = 'other'\n",
      "C:\\Users\\emili\\AppData\\Local\\Temp\\ipykernel_221912\\2324923324.py:3: SettingWithCopyWarning: \n",
      "A value is trying to be set on a copy of a slice from a DataFrame\n",
      "\n",
      "See the caveats in the documentation: https://pandas.pydata.org/pandas-docs/stable/user_guide/indexing.html#returning-a-view-versus-a-copy\n",
      "  df[' Owner Name'][i] = 'other'\n",
      "C:\\Users\\emili\\AppData\\Local\\Temp\\ipykernel_221912\\2324923324.py:3: SettingWithCopyWarning: \n",
      "A value is trying to be set on a copy of a slice from a DataFrame\n",
      "\n",
      "See the caveats in the documentation: https://pandas.pydata.org/pandas-docs/stable/user_guide/indexing.html#returning-a-view-versus-a-copy\n",
      "  df[' Owner Name'][i] = 'other'\n",
      "C:\\Users\\emili\\AppData\\Local\\Temp\\ipykernel_221912\\2324923324.py:3: SettingWithCopyWarning: \n",
      "A value is trying to be set on a copy of a slice from a DataFrame\n",
      "\n",
      "See the caveats in the documentation: https://pandas.pydata.org/pandas-docs/stable/user_guide/indexing.html#returning-a-view-versus-a-copy\n",
      "  df[' Owner Name'][i] = 'other'\n",
      "C:\\Users\\emili\\AppData\\Local\\Temp\\ipykernel_221912\\2324923324.py:3: SettingWithCopyWarning: \n",
      "A value is trying to be set on a copy of a slice from a DataFrame\n",
      "\n",
      "See the caveats in the documentation: https://pandas.pydata.org/pandas-docs/stable/user_guide/indexing.html#returning-a-view-versus-a-copy\n",
      "  df[' Owner Name'][i] = 'other'\n",
      "C:\\Users\\emili\\AppData\\Local\\Temp\\ipykernel_221912\\2324923324.py:3: SettingWithCopyWarning: \n",
      "A value is trying to be set on a copy of a slice from a DataFrame\n",
      "\n",
      "See the caveats in the documentation: https://pandas.pydata.org/pandas-docs/stable/user_guide/indexing.html#returning-a-view-versus-a-copy\n",
      "  df[' Owner Name'][i] = 'other'\n",
      "C:\\Users\\emili\\AppData\\Local\\Temp\\ipykernel_221912\\2324923324.py:3: SettingWithCopyWarning: \n",
      "A value is trying to be set on a copy of a slice from a DataFrame\n",
      "\n",
      "See the caveats in the documentation: https://pandas.pydata.org/pandas-docs/stable/user_guide/indexing.html#returning-a-view-versus-a-copy\n",
      "  df[' Owner Name'][i] = 'other'\n",
      "C:\\Users\\emili\\AppData\\Local\\Temp\\ipykernel_221912\\2324923324.py:3: SettingWithCopyWarning: \n",
      "A value is trying to be set on a copy of a slice from a DataFrame\n",
      "\n",
      "See the caveats in the documentation: https://pandas.pydata.org/pandas-docs/stable/user_guide/indexing.html#returning-a-view-versus-a-copy\n",
      "  df[' Owner Name'][i] = 'other'\n",
      "C:\\Users\\emili\\AppData\\Local\\Temp\\ipykernel_221912\\2324923324.py:3: SettingWithCopyWarning: \n",
      "A value is trying to be set on a copy of a slice from a DataFrame\n",
      "\n",
      "See the caveats in the documentation: https://pandas.pydata.org/pandas-docs/stable/user_guide/indexing.html#returning-a-view-versus-a-copy\n",
      "  df[' Owner Name'][i] = 'other'\n",
      "C:\\Users\\emili\\AppData\\Local\\Temp\\ipykernel_221912\\2324923324.py:3: SettingWithCopyWarning: \n",
      "A value is trying to be set on a copy of a slice from a DataFrame\n",
      "\n",
      "See the caveats in the documentation: https://pandas.pydata.org/pandas-docs/stable/user_guide/indexing.html#returning-a-view-versus-a-copy\n",
      "  df[' Owner Name'][i] = 'other'\n",
      "C:\\Users\\emili\\AppData\\Local\\Temp\\ipykernel_221912\\2324923324.py:3: SettingWithCopyWarning: \n",
      "A value is trying to be set on a copy of a slice from a DataFrame\n",
      "\n",
      "See the caveats in the documentation: https://pandas.pydata.org/pandas-docs/stable/user_guide/indexing.html#returning-a-view-versus-a-copy\n",
      "  df[' Owner Name'][i] = 'other'\n",
      "C:\\Users\\emili\\AppData\\Local\\Temp\\ipykernel_221912\\2324923324.py:3: SettingWithCopyWarning: \n",
      "A value is trying to be set on a copy of a slice from a DataFrame\n",
      "\n",
      "See the caveats in the documentation: https://pandas.pydata.org/pandas-docs/stable/user_guide/indexing.html#returning-a-view-versus-a-copy\n",
      "  df[' Owner Name'][i] = 'other'\n",
      "C:\\Users\\emili\\AppData\\Local\\Temp\\ipykernel_221912\\2324923324.py:3: SettingWithCopyWarning: \n",
      "A value is trying to be set on a copy of a slice from a DataFrame\n",
      "\n",
      "See the caveats in the documentation: https://pandas.pydata.org/pandas-docs/stable/user_guide/indexing.html#returning-a-view-versus-a-copy\n",
      "  df[' Owner Name'][i] = 'other'\n",
      "C:\\Users\\emili\\AppData\\Local\\Temp\\ipykernel_221912\\2324923324.py:3: SettingWithCopyWarning: \n",
      "A value is trying to be set on a copy of a slice from a DataFrame\n",
      "\n",
      "See the caveats in the documentation: https://pandas.pydata.org/pandas-docs/stable/user_guide/indexing.html#returning-a-view-versus-a-copy\n",
      "  df[' Owner Name'][i] = 'other'\n",
      "C:\\Users\\emili\\AppData\\Local\\Temp\\ipykernel_221912\\2324923324.py:3: SettingWithCopyWarning: \n",
      "A value is trying to be set on a copy of a slice from a DataFrame\n",
      "\n",
      "See the caveats in the documentation: https://pandas.pydata.org/pandas-docs/stable/user_guide/indexing.html#returning-a-view-versus-a-copy\n",
      "  df[' Owner Name'][i] = 'other'\n",
      "C:\\Users\\emili\\AppData\\Local\\Temp\\ipykernel_221912\\2324923324.py:3: SettingWithCopyWarning: \n",
      "A value is trying to be set on a copy of a slice from a DataFrame\n",
      "\n",
      "See the caveats in the documentation: https://pandas.pydata.org/pandas-docs/stable/user_guide/indexing.html#returning-a-view-versus-a-copy\n",
      "  df[' Owner Name'][i] = 'other'\n",
      "C:\\Users\\emili\\AppData\\Local\\Temp\\ipykernel_221912\\2324923324.py:3: SettingWithCopyWarning: \n",
      "A value is trying to be set on a copy of a slice from a DataFrame\n",
      "\n",
      "See the caveats in the documentation: https://pandas.pydata.org/pandas-docs/stable/user_guide/indexing.html#returning-a-view-versus-a-copy\n",
      "  df[' Owner Name'][i] = 'other'\n",
      "C:\\Users\\emili\\AppData\\Local\\Temp\\ipykernel_221912\\2324923324.py:3: SettingWithCopyWarning: \n",
      "A value is trying to be set on a copy of a slice from a DataFrame\n",
      "\n",
      "See the caveats in the documentation: https://pandas.pydata.org/pandas-docs/stable/user_guide/indexing.html#returning-a-view-versus-a-copy\n",
      "  df[' Owner Name'][i] = 'other'\n",
      "C:\\Users\\emili\\AppData\\Local\\Temp\\ipykernel_221912\\2324923324.py:3: SettingWithCopyWarning: \n",
      "A value is trying to be set on a copy of a slice from a DataFrame\n",
      "\n",
      "See the caveats in the documentation: https://pandas.pydata.org/pandas-docs/stable/user_guide/indexing.html#returning-a-view-versus-a-copy\n",
      "  df[' Owner Name'][i] = 'other'\n",
      "C:\\Users\\emili\\AppData\\Local\\Temp\\ipykernel_221912\\2324923324.py:3: SettingWithCopyWarning: \n",
      "A value is trying to be set on a copy of a slice from a DataFrame\n",
      "\n",
      "See the caveats in the documentation: https://pandas.pydata.org/pandas-docs/stable/user_guide/indexing.html#returning-a-view-versus-a-copy\n",
      "  df[' Owner Name'][i] = 'other'\n",
      "C:\\Users\\emili\\AppData\\Local\\Temp\\ipykernel_221912\\2324923324.py:3: SettingWithCopyWarning: \n",
      "A value is trying to be set on a copy of a slice from a DataFrame\n",
      "\n",
      "See the caveats in the documentation: https://pandas.pydata.org/pandas-docs/stable/user_guide/indexing.html#returning-a-view-versus-a-copy\n",
      "  df[' Owner Name'][i] = 'other'\n",
      "C:\\Users\\emili\\AppData\\Local\\Temp\\ipykernel_221912\\2324923324.py:3: SettingWithCopyWarning: \n",
      "A value is trying to be set on a copy of a slice from a DataFrame\n",
      "\n",
      "See the caveats in the documentation: https://pandas.pydata.org/pandas-docs/stable/user_guide/indexing.html#returning-a-view-versus-a-copy\n",
      "  df[' Owner Name'][i] = 'other'\n",
      "C:\\Users\\emili\\AppData\\Local\\Temp\\ipykernel_221912\\2324923324.py:3: SettingWithCopyWarning: \n",
      "A value is trying to be set on a copy of a slice from a DataFrame\n",
      "\n",
      "See the caveats in the documentation: https://pandas.pydata.org/pandas-docs/stable/user_guide/indexing.html#returning-a-view-versus-a-copy\n",
      "  df[' Owner Name'][i] = 'other'\n",
      "C:\\Users\\emili\\AppData\\Local\\Temp\\ipykernel_221912\\2324923324.py:3: SettingWithCopyWarning: \n",
      "A value is trying to be set on a copy of a slice from a DataFrame\n",
      "\n",
      "See the caveats in the documentation: https://pandas.pydata.org/pandas-docs/stable/user_guide/indexing.html#returning-a-view-versus-a-copy\n",
      "  df[' Owner Name'][i] = 'other'\n",
      "C:\\Users\\emili\\AppData\\Local\\Temp\\ipykernel_221912\\2324923324.py:3: SettingWithCopyWarning: \n",
      "A value is trying to be set on a copy of a slice from a DataFrame\n",
      "\n",
      "See the caveats in the documentation: https://pandas.pydata.org/pandas-docs/stable/user_guide/indexing.html#returning-a-view-versus-a-copy\n",
      "  df[' Owner Name'][i] = 'other'\n",
      "C:\\Users\\emili\\AppData\\Local\\Temp\\ipykernel_221912\\2324923324.py:3: SettingWithCopyWarning: \n",
      "A value is trying to be set on a copy of a slice from a DataFrame\n",
      "\n",
      "See the caveats in the documentation: https://pandas.pydata.org/pandas-docs/stable/user_guide/indexing.html#returning-a-view-versus-a-copy\n",
      "  df[' Owner Name'][i] = 'other'\n",
      "C:\\Users\\emili\\AppData\\Local\\Temp\\ipykernel_221912\\2324923324.py:3: SettingWithCopyWarning: \n",
      "A value is trying to be set on a copy of a slice from a DataFrame\n",
      "\n",
      "See the caveats in the documentation: https://pandas.pydata.org/pandas-docs/stable/user_guide/indexing.html#returning-a-view-versus-a-copy\n",
      "  df[' Owner Name'][i] = 'other'\n",
      "C:\\Users\\emili\\AppData\\Local\\Temp\\ipykernel_221912\\2324923324.py:3: SettingWithCopyWarning: \n",
      "A value is trying to be set on a copy of a slice from a DataFrame\n",
      "\n",
      "See the caveats in the documentation: https://pandas.pydata.org/pandas-docs/stable/user_guide/indexing.html#returning-a-view-versus-a-copy\n",
      "  df[' Owner Name'][i] = 'other'\n",
      "C:\\Users\\emili\\AppData\\Local\\Temp\\ipykernel_221912\\2324923324.py:3: SettingWithCopyWarning: \n",
      "A value is trying to be set on a copy of a slice from a DataFrame\n",
      "\n",
      "See the caveats in the documentation: https://pandas.pydata.org/pandas-docs/stable/user_guide/indexing.html#returning-a-view-versus-a-copy\n",
      "  df[' Owner Name'][i] = 'other'\n",
      "C:\\Users\\emili\\AppData\\Local\\Temp\\ipykernel_221912\\2324923324.py:3: SettingWithCopyWarning: \n",
      "A value is trying to be set on a copy of a slice from a DataFrame\n",
      "\n",
      "See the caveats in the documentation: https://pandas.pydata.org/pandas-docs/stable/user_guide/indexing.html#returning-a-view-versus-a-copy\n",
      "  df[' Owner Name'][i] = 'other'\n",
      "C:\\Users\\emili\\AppData\\Local\\Temp\\ipykernel_221912\\2324923324.py:3: SettingWithCopyWarning: \n",
      "A value is trying to be set on a copy of a slice from a DataFrame\n",
      "\n",
      "See the caveats in the documentation: https://pandas.pydata.org/pandas-docs/stable/user_guide/indexing.html#returning-a-view-versus-a-copy\n",
      "  df[' Owner Name'][i] = 'other'\n",
      "C:\\Users\\emili\\AppData\\Local\\Temp\\ipykernel_221912\\2324923324.py:3: SettingWithCopyWarning: \n",
      "A value is trying to be set on a copy of a slice from a DataFrame\n",
      "\n",
      "See the caveats in the documentation: https://pandas.pydata.org/pandas-docs/stable/user_guide/indexing.html#returning-a-view-versus-a-copy\n",
      "  df[' Owner Name'][i] = 'other'\n",
      "C:\\Users\\emili\\AppData\\Local\\Temp\\ipykernel_221912\\2324923324.py:3: SettingWithCopyWarning: \n",
      "A value is trying to be set on a copy of a slice from a DataFrame\n",
      "\n",
      "See the caveats in the documentation: https://pandas.pydata.org/pandas-docs/stable/user_guide/indexing.html#returning-a-view-versus-a-copy\n",
      "  df[' Owner Name'][i] = 'other'\n",
      "C:\\Users\\emili\\AppData\\Local\\Temp\\ipykernel_221912\\2324923324.py:3: SettingWithCopyWarning: \n",
      "A value is trying to be set on a copy of a slice from a DataFrame\n",
      "\n",
      "See the caveats in the documentation: https://pandas.pydata.org/pandas-docs/stable/user_guide/indexing.html#returning-a-view-versus-a-copy\n",
      "  df[' Owner Name'][i] = 'other'\n",
      "C:\\Users\\emili\\AppData\\Local\\Temp\\ipykernel_221912\\2324923324.py:3: SettingWithCopyWarning: \n",
      "A value is trying to be set on a copy of a slice from a DataFrame\n",
      "\n",
      "See the caveats in the documentation: https://pandas.pydata.org/pandas-docs/stable/user_guide/indexing.html#returning-a-view-versus-a-copy\n",
      "  df[' Owner Name'][i] = 'other'\n",
      "C:\\Users\\emili\\AppData\\Local\\Temp\\ipykernel_221912\\2324923324.py:3: SettingWithCopyWarning: \n",
      "A value is trying to be set on a copy of a slice from a DataFrame\n",
      "\n",
      "See the caveats in the documentation: https://pandas.pydata.org/pandas-docs/stable/user_guide/indexing.html#returning-a-view-versus-a-copy\n",
      "  df[' Owner Name'][i] = 'other'\n",
      "C:\\Users\\emili\\AppData\\Local\\Temp\\ipykernel_221912\\2324923324.py:3: SettingWithCopyWarning: \n",
      "A value is trying to be set on a copy of a slice from a DataFrame\n",
      "\n",
      "See the caveats in the documentation: https://pandas.pydata.org/pandas-docs/stable/user_guide/indexing.html#returning-a-view-versus-a-copy\n",
      "  df[' Owner Name'][i] = 'other'\n",
      "C:\\Users\\emili\\AppData\\Local\\Temp\\ipykernel_221912\\2324923324.py:3: SettingWithCopyWarning: \n",
      "A value is trying to be set on a copy of a slice from a DataFrame\n",
      "\n",
      "See the caveats in the documentation: https://pandas.pydata.org/pandas-docs/stable/user_guide/indexing.html#returning-a-view-versus-a-copy\n",
      "  df[' Owner Name'][i] = 'other'\n",
      "C:\\Users\\emili\\AppData\\Local\\Temp\\ipykernel_221912\\2324923324.py:3: SettingWithCopyWarning: \n",
      "A value is trying to be set on a copy of a slice from a DataFrame\n",
      "\n",
      "See the caveats in the documentation: https://pandas.pydata.org/pandas-docs/stable/user_guide/indexing.html#returning-a-view-versus-a-copy\n",
      "  df[' Owner Name'][i] = 'other'\n",
      "C:\\Users\\emili\\AppData\\Local\\Temp\\ipykernel_221912\\2324923324.py:3: SettingWithCopyWarning: \n",
      "A value is trying to be set on a copy of a slice from a DataFrame\n",
      "\n",
      "See the caveats in the documentation: https://pandas.pydata.org/pandas-docs/stable/user_guide/indexing.html#returning-a-view-versus-a-copy\n",
      "  df[' Owner Name'][i] = 'other'\n",
      "C:\\Users\\emili\\AppData\\Local\\Temp\\ipykernel_221912\\2324923324.py:3: SettingWithCopyWarning: \n",
      "A value is trying to be set on a copy of a slice from a DataFrame\n",
      "\n",
      "See the caveats in the documentation: https://pandas.pydata.org/pandas-docs/stable/user_guide/indexing.html#returning-a-view-versus-a-copy\n",
      "  df[' Owner Name'][i] = 'other'\n",
      "C:\\Users\\emili\\AppData\\Local\\Temp\\ipykernel_221912\\2324923324.py:3: SettingWithCopyWarning: \n",
      "A value is trying to be set on a copy of a slice from a DataFrame\n",
      "\n",
      "See the caveats in the documentation: https://pandas.pydata.org/pandas-docs/stable/user_guide/indexing.html#returning-a-view-versus-a-copy\n",
      "  df[' Owner Name'][i] = 'other'\n",
      "C:\\Users\\emili\\AppData\\Local\\Temp\\ipykernel_221912\\2324923324.py:3: SettingWithCopyWarning: \n",
      "A value is trying to be set on a copy of a slice from a DataFrame\n",
      "\n",
      "See the caveats in the documentation: https://pandas.pydata.org/pandas-docs/stable/user_guide/indexing.html#returning-a-view-versus-a-copy\n",
      "  df[' Owner Name'][i] = 'other'\n",
      "C:\\Users\\emili\\AppData\\Local\\Temp\\ipykernel_221912\\2324923324.py:3: SettingWithCopyWarning: \n",
      "A value is trying to be set on a copy of a slice from a DataFrame\n",
      "\n",
      "See the caveats in the documentation: https://pandas.pydata.org/pandas-docs/stable/user_guide/indexing.html#returning-a-view-versus-a-copy\n",
      "  df[' Owner Name'][i] = 'other'\n",
      "C:\\Users\\emili\\AppData\\Local\\Temp\\ipykernel_221912\\2324923324.py:3: SettingWithCopyWarning: \n",
      "A value is trying to be set on a copy of a slice from a DataFrame\n",
      "\n",
      "See the caveats in the documentation: https://pandas.pydata.org/pandas-docs/stable/user_guide/indexing.html#returning-a-view-versus-a-copy\n",
      "  df[' Owner Name'][i] = 'other'\n",
      "C:\\Users\\emili\\AppData\\Local\\Temp\\ipykernel_221912\\2324923324.py:3: SettingWithCopyWarning: \n",
      "A value is trying to be set on a copy of a slice from a DataFrame\n",
      "\n",
      "See the caveats in the documentation: https://pandas.pydata.org/pandas-docs/stable/user_guide/indexing.html#returning-a-view-versus-a-copy\n",
      "  df[' Owner Name'][i] = 'other'\n",
      "C:\\Users\\emili\\AppData\\Local\\Temp\\ipykernel_221912\\2324923324.py:3: SettingWithCopyWarning: \n",
      "A value is trying to be set on a copy of a slice from a DataFrame\n",
      "\n",
      "See the caveats in the documentation: https://pandas.pydata.org/pandas-docs/stable/user_guide/indexing.html#returning-a-view-versus-a-copy\n",
      "  df[' Owner Name'][i] = 'other'\n",
      "C:\\Users\\emili\\AppData\\Local\\Temp\\ipykernel_221912\\2324923324.py:3: SettingWithCopyWarning: \n",
      "A value is trying to be set on a copy of a slice from a DataFrame\n",
      "\n",
      "See the caveats in the documentation: https://pandas.pydata.org/pandas-docs/stable/user_guide/indexing.html#returning-a-view-versus-a-copy\n",
      "  df[' Owner Name'][i] = 'other'\n",
      "C:\\Users\\emili\\AppData\\Local\\Temp\\ipykernel_221912\\2324923324.py:3: SettingWithCopyWarning: \n",
      "A value is trying to be set on a copy of a slice from a DataFrame\n",
      "\n",
      "See the caveats in the documentation: https://pandas.pydata.org/pandas-docs/stable/user_guide/indexing.html#returning-a-view-versus-a-copy\n",
      "  df[' Owner Name'][i] = 'other'\n",
      "C:\\Users\\emili\\AppData\\Local\\Temp\\ipykernel_221912\\2324923324.py:3: SettingWithCopyWarning: \n",
      "A value is trying to be set on a copy of a slice from a DataFrame\n",
      "\n",
      "See the caveats in the documentation: https://pandas.pydata.org/pandas-docs/stable/user_guide/indexing.html#returning-a-view-versus-a-copy\n",
      "  df[' Owner Name'][i] = 'other'\n",
      "C:\\Users\\emili\\AppData\\Local\\Temp\\ipykernel_221912\\2324923324.py:3: SettingWithCopyWarning: \n",
      "A value is trying to be set on a copy of a slice from a DataFrame\n",
      "\n",
      "See the caveats in the documentation: https://pandas.pydata.org/pandas-docs/stable/user_guide/indexing.html#returning-a-view-versus-a-copy\n",
      "  df[' Owner Name'][i] = 'other'\n",
      "C:\\Users\\emili\\AppData\\Local\\Temp\\ipykernel_221912\\2324923324.py:3: SettingWithCopyWarning: \n",
      "A value is trying to be set on a copy of a slice from a DataFrame\n",
      "\n",
      "See the caveats in the documentation: https://pandas.pydata.org/pandas-docs/stable/user_guide/indexing.html#returning-a-view-versus-a-copy\n",
      "  df[' Owner Name'][i] = 'other'\n",
      "C:\\Users\\emili\\AppData\\Local\\Temp\\ipykernel_221912\\2324923324.py:3: SettingWithCopyWarning: \n",
      "A value is trying to be set on a copy of a slice from a DataFrame\n",
      "\n",
      "See the caveats in the documentation: https://pandas.pydata.org/pandas-docs/stable/user_guide/indexing.html#returning-a-view-versus-a-copy\n",
      "  df[' Owner Name'][i] = 'other'\n",
      "C:\\Users\\emili\\AppData\\Local\\Temp\\ipykernel_221912\\2324923324.py:3: SettingWithCopyWarning: \n",
      "A value is trying to be set on a copy of a slice from a DataFrame\n",
      "\n",
      "See the caveats in the documentation: https://pandas.pydata.org/pandas-docs/stable/user_guide/indexing.html#returning-a-view-versus-a-copy\n",
      "  df[' Owner Name'][i] = 'other'\n",
      "C:\\Users\\emili\\AppData\\Local\\Temp\\ipykernel_221912\\2324923324.py:3: SettingWithCopyWarning: \n",
      "A value is trying to be set on a copy of a slice from a DataFrame\n",
      "\n",
      "See the caveats in the documentation: https://pandas.pydata.org/pandas-docs/stable/user_guide/indexing.html#returning-a-view-versus-a-copy\n",
      "  df[' Owner Name'][i] = 'other'\n",
      "C:\\Users\\emili\\AppData\\Local\\Temp\\ipykernel_221912\\2324923324.py:3: SettingWithCopyWarning: \n",
      "A value is trying to be set on a copy of a slice from a DataFrame\n",
      "\n",
      "See the caveats in the documentation: https://pandas.pydata.org/pandas-docs/stable/user_guide/indexing.html#returning-a-view-versus-a-copy\n",
      "  df[' Owner Name'][i] = 'other'\n",
      "C:\\Users\\emili\\AppData\\Local\\Temp\\ipykernel_221912\\2324923324.py:3: SettingWithCopyWarning: \n",
      "A value is trying to be set on a copy of a slice from a DataFrame\n",
      "\n",
      "See the caveats in the documentation: https://pandas.pydata.org/pandas-docs/stable/user_guide/indexing.html#returning-a-view-versus-a-copy\n",
      "  df[' Owner Name'][i] = 'other'\n",
      "C:\\Users\\emili\\AppData\\Local\\Temp\\ipykernel_221912\\2324923324.py:3: SettingWithCopyWarning: \n",
      "A value is trying to be set on a copy of a slice from a DataFrame\n",
      "\n",
      "See the caveats in the documentation: https://pandas.pydata.org/pandas-docs/stable/user_guide/indexing.html#returning-a-view-versus-a-copy\n",
      "  df[' Owner Name'][i] = 'other'\n",
      "C:\\Users\\emili\\AppData\\Local\\Temp\\ipykernel_221912\\2324923324.py:3: SettingWithCopyWarning: \n",
      "A value is trying to be set on a copy of a slice from a DataFrame\n",
      "\n",
      "See the caveats in the documentation: https://pandas.pydata.org/pandas-docs/stable/user_guide/indexing.html#returning-a-view-versus-a-copy\n",
      "  df[' Owner Name'][i] = 'other'\n",
      "C:\\Users\\emili\\AppData\\Local\\Temp\\ipykernel_221912\\2324923324.py:3: SettingWithCopyWarning: \n",
      "A value is trying to be set on a copy of a slice from a DataFrame\n",
      "\n",
      "See the caveats in the documentation: https://pandas.pydata.org/pandas-docs/stable/user_guide/indexing.html#returning-a-view-versus-a-copy\n",
      "  df[' Owner Name'][i] = 'other'\n",
      "C:\\Users\\emili\\AppData\\Local\\Temp\\ipykernel_221912\\2324923324.py:3: SettingWithCopyWarning: \n",
      "A value is trying to be set on a copy of a slice from a DataFrame\n",
      "\n",
      "See the caveats in the documentation: https://pandas.pydata.org/pandas-docs/stable/user_guide/indexing.html#returning-a-view-versus-a-copy\n",
      "  df[' Owner Name'][i] = 'other'\n",
      "C:\\Users\\emili\\AppData\\Local\\Temp\\ipykernel_221912\\2324923324.py:3: SettingWithCopyWarning: \n",
      "A value is trying to be set on a copy of a slice from a DataFrame\n",
      "\n",
      "See the caveats in the documentation: https://pandas.pydata.org/pandas-docs/stable/user_guide/indexing.html#returning-a-view-versus-a-copy\n",
      "  df[' Owner Name'][i] = 'other'\n",
      "C:\\Users\\emili\\AppData\\Local\\Temp\\ipykernel_221912\\2324923324.py:3: SettingWithCopyWarning: \n",
      "A value is trying to be set on a copy of a slice from a DataFrame\n",
      "\n",
      "See the caveats in the documentation: https://pandas.pydata.org/pandas-docs/stable/user_guide/indexing.html#returning-a-view-versus-a-copy\n",
      "  df[' Owner Name'][i] = 'other'\n",
      "C:\\Users\\emili\\AppData\\Local\\Temp\\ipykernel_221912\\2324923324.py:3: SettingWithCopyWarning: \n",
      "A value is trying to be set on a copy of a slice from a DataFrame\n",
      "\n",
      "See the caveats in the documentation: https://pandas.pydata.org/pandas-docs/stable/user_guide/indexing.html#returning-a-view-versus-a-copy\n",
      "  df[' Owner Name'][i] = 'other'\n",
      "C:\\Users\\emili\\AppData\\Local\\Temp\\ipykernel_221912\\2324923324.py:3: SettingWithCopyWarning: \n",
      "A value is trying to be set on a copy of a slice from a DataFrame\n",
      "\n",
      "See the caveats in the documentation: https://pandas.pydata.org/pandas-docs/stable/user_guide/indexing.html#returning-a-view-versus-a-copy\n",
      "  df[' Owner Name'][i] = 'other'\n",
      "C:\\Users\\emili\\AppData\\Local\\Temp\\ipykernel_221912\\2324923324.py:3: SettingWithCopyWarning: \n",
      "A value is trying to be set on a copy of a slice from a DataFrame\n",
      "\n",
      "See the caveats in the documentation: https://pandas.pydata.org/pandas-docs/stable/user_guide/indexing.html#returning-a-view-versus-a-copy\n",
      "  df[' Owner Name'][i] = 'other'\n",
      "C:\\Users\\emili\\AppData\\Local\\Temp\\ipykernel_221912\\2324923324.py:3: SettingWithCopyWarning: \n",
      "A value is trying to be set on a copy of a slice from a DataFrame\n",
      "\n",
      "See the caveats in the documentation: https://pandas.pydata.org/pandas-docs/stable/user_guide/indexing.html#returning-a-view-versus-a-copy\n",
      "  df[' Owner Name'][i] = 'other'\n",
      "C:\\Users\\emili\\AppData\\Local\\Temp\\ipykernel_221912\\2324923324.py:3: SettingWithCopyWarning: \n",
      "A value is trying to be set on a copy of a slice from a DataFrame\n",
      "\n",
      "See the caveats in the documentation: https://pandas.pydata.org/pandas-docs/stable/user_guide/indexing.html#returning-a-view-versus-a-copy\n",
      "  df[' Owner Name'][i] = 'other'\n",
      "C:\\Users\\emili\\AppData\\Local\\Temp\\ipykernel_221912\\2324923324.py:3: SettingWithCopyWarning: \n",
      "A value is trying to be set on a copy of a slice from a DataFrame\n",
      "\n",
      "See the caveats in the documentation: https://pandas.pydata.org/pandas-docs/stable/user_guide/indexing.html#returning-a-view-versus-a-copy\n",
      "  df[' Owner Name'][i] = 'other'\n",
      "C:\\Users\\emili\\AppData\\Local\\Temp\\ipykernel_221912\\2324923324.py:3: SettingWithCopyWarning: \n",
      "A value is trying to be set on a copy of a slice from a DataFrame\n",
      "\n",
      "See the caveats in the documentation: https://pandas.pydata.org/pandas-docs/stable/user_guide/indexing.html#returning-a-view-versus-a-copy\n",
      "  df[' Owner Name'][i] = 'other'\n",
      "C:\\Users\\emili\\AppData\\Local\\Temp\\ipykernel_221912\\2324923324.py:3: SettingWithCopyWarning: \n",
      "A value is trying to be set on a copy of a slice from a DataFrame\n",
      "\n",
      "See the caveats in the documentation: https://pandas.pydata.org/pandas-docs/stable/user_guide/indexing.html#returning-a-view-versus-a-copy\n",
      "  df[' Owner Name'][i] = 'other'\n",
      "C:\\Users\\emili\\AppData\\Local\\Temp\\ipykernel_221912\\2324923324.py:3: SettingWithCopyWarning: \n",
      "A value is trying to be set on a copy of a slice from a DataFrame\n",
      "\n",
      "See the caveats in the documentation: https://pandas.pydata.org/pandas-docs/stable/user_guide/indexing.html#returning-a-view-versus-a-copy\n",
      "  df[' Owner Name'][i] = 'other'\n",
      "C:\\Users\\emili\\AppData\\Local\\Temp\\ipykernel_221912\\2324923324.py:3: SettingWithCopyWarning: \n",
      "A value is trying to be set on a copy of a slice from a DataFrame\n",
      "\n",
      "See the caveats in the documentation: https://pandas.pydata.org/pandas-docs/stable/user_guide/indexing.html#returning-a-view-versus-a-copy\n",
      "  df[' Owner Name'][i] = 'other'\n",
      "C:\\Users\\emili\\AppData\\Local\\Temp\\ipykernel_221912\\2324923324.py:3: SettingWithCopyWarning: \n",
      "A value is trying to be set on a copy of a slice from a DataFrame\n",
      "\n",
      "See the caveats in the documentation: https://pandas.pydata.org/pandas-docs/stable/user_guide/indexing.html#returning-a-view-versus-a-copy\n",
      "  df[' Owner Name'][i] = 'other'\n",
      "C:\\Users\\emili\\AppData\\Local\\Temp\\ipykernel_221912\\2324923324.py:3: SettingWithCopyWarning: \n",
      "A value is trying to be set on a copy of a slice from a DataFrame\n",
      "\n",
      "See the caveats in the documentation: https://pandas.pydata.org/pandas-docs/stable/user_guide/indexing.html#returning-a-view-versus-a-copy\n",
      "  df[' Owner Name'][i] = 'other'\n",
      "C:\\Users\\emili\\AppData\\Local\\Temp\\ipykernel_221912\\2324923324.py:3: SettingWithCopyWarning: \n",
      "A value is trying to be set on a copy of a slice from a DataFrame\n",
      "\n",
      "See the caveats in the documentation: https://pandas.pydata.org/pandas-docs/stable/user_guide/indexing.html#returning-a-view-versus-a-copy\n",
      "  df[' Owner Name'][i] = 'other'\n",
      "C:\\Users\\emili\\AppData\\Local\\Temp\\ipykernel_221912\\2324923324.py:3: SettingWithCopyWarning: \n",
      "A value is trying to be set on a copy of a slice from a DataFrame\n",
      "\n",
      "See the caveats in the documentation: https://pandas.pydata.org/pandas-docs/stable/user_guide/indexing.html#returning-a-view-versus-a-copy\n",
      "  df[' Owner Name'][i] = 'other'\n",
      "C:\\Users\\emili\\AppData\\Local\\Temp\\ipykernel_221912\\2324923324.py:3: SettingWithCopyWarning: \n",
      "A value is trying to be set on a copy of a slice from a DataFrame\n",
      "\n",
      "See the caveats in the documentation: https://pandas.pydata.org/pandas-docs/stable/user_guide/indexing.html#returning-a-view-versus-a-copy\n",
      "  df[' Owner Name'][i] = 'other'\n",
      "C:\\Users\\emili\\AppData\\Local\\Temp\\ipykernel_221912\\2324923324.py:3: SettingWithCopyWarning: \n",
      "A value is trying to be set on a copy of a slice from a DataFrame\n",
      "\n",
      "See the caveats in the documentation: https://pandas.pydata.org/pandas-docs/stable/user_guide/indexing.html#returning-a-view-versus-a-copy\n",
      "  df[' Owner Name'][i] = 'other'\n",
      "C:\\Users\\emili\\AppData\\Local\\Temp\\ipykernel_221912\\2324923324.py:3: SettingWithCopyWarning: \n",
      "A value is trying to be set on a copy of a slice from a DataFrame\n",
      "\n",
      "See the caveats in the documentation: https://pandas.pydata.org/pandas-docs/stable/user_guide/indexing.html#returning-a-view-versus-a-copy\n",
      "  df[' Owner Name'][i] = 'other'\n",
      "C:\\Users\\emili\\AppData\\Local\\Temp\\ipykernel_221912\\2324923324.py:3: SettingWithCopyWarning: \n",
      "A value is trying to be set on a copy of a slice from a DataFrame\n",
      "\n",
      "See the caveats in the documentation: https://pandas.pydata.org/pandas-docs/stable/user_guide/indexing.html#returning-a-view-versus-a-copy\n",
      "  df[' Owner Name'][i] = 'other'\n",
      "C:\\Users\\emili\\AppData\\Local\\Temp\\ipykernel_221912\\2324923324.py:3: SettingWithCopyWarning: \n",
      "A value is trying to be set on a copy of a slice from a DataFrame\n",
      "\n",
      "See the caveats in the documentation: https://pandas.pydata.org/pandas-docs/stable/user_guide/indexing.html#returning-a-view-versus-a-copy\n",
      "  df[' Owner Name'][i] = 'other'\n",
      "C:\\Users\\emili\\AppData\\Local\\Temp\\ipykernel_221912\\2324923324.py:3: SettingWithCopyWarning: \n",
      "A value is trying to be set on a copy of a slice from a DataFrame\n",
      "\n",
      "See the caveats in the documentation: https://pandas.pydata.org/pandas-docs/stable/user_guide/indexing.html#returning-a-view-versus-a-copy\n",
      "  df[' Owner Name'][i] = 'other'\n",
      "C:\\Users\\emili\\AppData\\Local\\Temp\\ipykernel_221912\\2324923324.py:3: SettingWithCopyWarning: \n",
      "A value is trying to be set on a copy of a slice from a DataFrame\n",
      "\n",
      "See the caveats in the documentation: https://pandas.pydata.org/pandas-docs/stable/user_guide/indexing.html#returning-a-view-versus-a-copy\n",
      "  df[' Owner Name'][i] = 'other'\n",
      "C:\\Users\\emili\\AppData\\Local\\Temp\\ipykernel_221912\\2324923324.py:3: SettingWithCopyWarning: \n",
      "A value is trying to be set on a copy of a slice from a DataFrame\n",
      "\n",
      "See the caveats in the documentation: https://pandas.pydata.org/pandas-docs/stable/user_guide/indexing.html#returning-a-view-versus-a-copy\n",
      "  df[' Owner Name'][i] = 'other'\n",
      "C:\\Users\\emili\\AppData\\Local\\Temp\\ipykernel_221912\\2324923324.py:3: SettingWithCopyWarning: \n",
      "A value is trying to be set on a copy of a slice from a DataFrame\n",
      "\n",
      "See the caveats in the documentation: https://pandas.pydata.org/pandas-docs/stable/user_guide/indexing.html#returning-a-view-versus-a-copy\n",
      "  df[' Owner Name'][i] = 'other'\n",
      "C:\\Users\\emili\\AppData\\Local\\Temp\\ipykernel_221912\\2324923324.py:3: SettingWithCopyWarning: \n",
      "A value is trying to be set on a copy of a slice from a DataFrame\n",
      "\n",
      "See the caveats in the documentation: https://pandas.pydata.org/pandas-docs/stable/user_guide/indexing.html#returning-a-view-versus-a-copy\n",
      "  df[' Owner Name'][i] = 'other'\n"
     ]
    }
   ],
   "source": [
    "for i in range(len(df[' Owner Name'])):\n",
    "    if df[' Owner Name'][i] not in list(df[' Owner Name'].value_counts().keys()[0:4]):\n",
    "        df[' Owner Name'][i] = 'other'\n",
    "ohe = pd.get_dummies(df[' Owner Name'], 'Owner')\n",
    "df = pd.concat([df, ohe], axis=1)\n",
    "df = df.drop(' Owner Name', axis = 1)"
   ]
  },
  {
   "cell_type": "code",
   "execution_count": 152,
   "metadata": {},
   "outputs": [
    {
     "data": {
      "text/html": [
       "<div>\n",
       "<style scoped>\n",
       "    .dataframe tbody tr th:only-of-type {\n",
       "        vertical-align: middle;\n",
       "    }\n",
       "\n",
       "    .dataframe tbody tr th {\n",
       "        vertical-align: top;\n",
       "    }\n",
       "\n",
       "    .dataframe thead th {\n",
       "        text-align: right;\n",
       "    }\n",
       "</style>\n",
       "<table border=\"1\" class=\"dataframe\">\n",
       "  <thead>\n",
       "    <tr style=\"text-align: right;\">\n",
       "      <th></th>\n",
       "      <th>Birth Date</th>\n",
       "      <th>Main Breed = HO</th>\n",
       "      <th>HO%</th>\n",
       "      <th>EBI Euro</th>\n",
       "      <th>EBI REL</th>\n",
       "      <th>Milk Prod SI Euro</th>\n",
       "      <th>Milk Prod SI REL</th>\n",
       "      <th>Fertility SI Euro</th>\n",
       "      <th>Fertility SI REL</th>\n",
       "      <th>Calving SI Euro</th>\n",
       "      <th>...</th>\n",
       "      <th>dif_maint_si</th>\n",
       "      <th>dif_mgt_si</th>\n",
       "      <th>dif_health_si</th>\n",
       "      <th>dif_milk_kg</th>\n",
       "      <th>dif_fat_kg</th>\n",
       "      <th>dif_protein_kg</th>\n",
       "      <th>dif_calv_int</th>\n",
       "      <th>dif_survival</th>\n",
       "      <th>mean_dif</th>\n",
       "      <th>mean_dif_cat</th>\n",
       "    </tr>\n",
       "  </thead>\n",
       "  <tbody>\n",
       "    <tr>\n",
       "      <th>count</th>\n",
       "      <td>379.000000</td>\n",
       "      <td>379.0</td>\n",
       "      <td>379.000000</td>\n",
       "      <td>379.000000</td>\n",
       "      <td>379.000000</td>\n",
       "      <td>379.000000</td>\n",
       "      <td>379.000000</td>\n",
       "      <td>379.000000</td>\n",
       "      <td>379.000000</td>\n",
       "      <td>379.000000</td>\n",
       "      <td>...</td>\n",
       "      <td>379.000000</td>\n",
       "      <td>379.000000</td>\n",
       "      <td>379.000000</td>\n",
       "      <td>379.000000</td>\n",
       "      <td>379.000000</td>\n",
       "      <td>379.000000</td>\n",
       "      <td>379.000000</td>\n",
       "      <td>379.000000</td>\n",
       "      <td>379.000000</td>\n",
       "      <td>379.000000</td>\n",
       "    </tr>\n",
       "    <tr>\n",
       "      <th>mean</th>\n",
       "      <td>2008.823219</td>\n",
       "      <td>0.0</td>\n",
       "      <td>66.440633</td>\n",
       "      <td>113.772269</td>\n",
       "      <td>59.788918</td>\n",
       "      <td>37.566280</td>\n",
       "      <td>69.440633</td>\n",
       "      <td>41.237546</td>\n",
       "      <td>51.754617</td>\n",
       "      <td>32.643456</td>\n",
       "      <td>...</td>\n",
       "      <td>0.471026</td>\n",
       "      <td>0.428792</td>\n",
       "      <td>0.481793</td>\n",
       "      <td>0.509539</td>\n",
       "      <td>0.513747</td>\n",
       "      <td>0.540271</td>\n",
       "      <td>0.564296</td>\n",
       "      <td>0.552521</td>\n",
       "      <td>0.472537</td>\n",
       "      <td>0.624011</td>\n",
       "    </tr>\n",
       "    <tr>\n",
       "      <th>std</th>\n",
       "      <td>7.473260</td>\n",
       "      <td>0.0</td>\n",
       "      <td>39.164198</td>\n",
       "      <td>107.909375</td>\n",
       "      <td>14.343768</td>\n",
       "      <td>50.001538</td>\n",
       "      <td>14.217827</td>\n",
       "      <td>67.761462</td>\n",
       "      <td>17.580968</td>\n",
       "      <td>19.697086</td>\n",
       "      <td>...</td>\n",
       "      <td>0.160645</td>\n",
       "      <td>0.137411</td>\n",
       "      <td>0.159946</td>\n",
       "      <td>0.156004</td>\n",
       "      <td>0.162238</td>\n",
       "      <td>0.143582</td>\n",
       "      <td>0.152397</td>\n",
       "      <td>0.132917</td>\n",
       "      <td>0.057884</td>\n",
       "      <td>0.415225</td>\n",
       "    </tr>\n",
       "    <tr>\n",
       "      <th>min</th>\n",
       "      <td>1990.000000</td>\n",
       "      <td>0.0</td>\n",
       "      <td>0.000000</td>\n",
       "      <td>-194.910000</td>\n",
       "      <td>26.000000</td>\n",
       "      <td>-95.430000</td>\n",
       "      <td>15.000000</td>\n",
       "      <td>-178.910000</td>\n",
       "      <td>11.000000</td>\n",
       "      <td>-27.180000</td>\n",
       "      <td>...</td>\n",
       "      <td>0.000000</td>\n",
       "      <td>0.000000</td>\n",
       "      <td>0.000000</td>\n",
       "      <td>0.000000</td>\n",
       "      <td>0.000000</td>\n",
       "      <td>0.000000</td>\n",
       "      <td>0.000000</td>\n",
       "      <td>0.000000</td>\n",
       "      <td>0.277422</td>\n",
       "      <td>0.000000</td>\n",
       "    </tr>\n",
       "    <tr>\n",
       "      <th>25%</th>\n",
       "      <td>2004.000000</td>\n",
       "      <td>0.0</td>\n",
       "      <td>42.500000</td>\n",
       "      <td>25.880000</td>\n",
       "      <td>53.000000</td>\n",
       "      <td>1.805000</td>\n",
       "      <td>65.000000</td>\n",
       "      <td>-0.760000</td>\n",
       "      <td>46.000000</td>\n",
       "      <td>23.810000</td>\n",
       "      <td>...</td>\n",
       "      <td>0.361792</td>\n",
       "      <td>0.344172</td>\n",
       "      <td>0.381800</td>\n",
       "      <td>0.424386</td>\n",
       "      <td>0.425297</td>\n",
       "      <td>0.457976</td>\n",
       "      <td>0.473664</td>\n",
       "      <td>0.469799</td>\n",
       "      <td>0.434642</td>\n",
       "      <td>0.250000</td>\n",
       "    </tr>\n",
       "    <tr>\n",
       "      <th>50%</th>\n",
       "      <td>2013.000000</td>\n",
       "      <td>0.0</td>\n",
       "      <td>81.000000</td>\n",
       "      <td>131.060000</td>\n",
       "      <td>59.000000</td>\n",
       "      <td>48.710000</td>\n",
       "      <td>68.000000</td>\n",
       "      <td>45.820000</td>\n",
       "      <td>52.000000</td>\n",
       "      <td>37.030000</td>\n",
       "      <td>...</td>\n",
       "      <td>0.470755</td>\n",
       "      <td>0.422086</td>\n",
       "      <td>0.492252</td>\n",
       "      <td>0.511016</td>\n",
       "      <td>0.515205</td>\n",
       "      <td>0.538635</td>\n",
       "      <td>0.579396</td>\n",
       "      <td>0.542282</td>\n",
       "      <td>0.471109</td>\n",
       "      <td>0.500000</td>\n",
       "    </tr>\n",
       "    <tr>\n",
       "      <th>75%</th>\n",
       "      <td>2014.000000</td>\n",
       "      <td>0.0</td>\n",
       "      <td>100.000000</td>\n",
       "      <td>199.310000</td>\n",
       "      <td>64.000000</td>\n",
       "      <td>74.120000</td>\n",
       "      <td>72.000000</td>\n",
       "      <td>89.875000</td>\n",
       "      <td>57.000000</td>\n",
       "      <td>46.285000</td>\n",
       "      <td>...</td>\n",
       "      <td>0.577358</td>\n",
       "      <td>0.503476</td>\n",
       "      <td>0.576162</td>\n",
       "      <td>0.588046</td>\n",
       "      <td>0.598061</td>\n",
       "      <td>0.620877</td>\n",
       "      <td>0.647173</td>\n",
       "      <td>0.637584</td>\n",
       "      <td>0.509034</td>\n",
       "      <td>1.000000</td>\n",
       "    </tr>\n",
       "    <tr>\n",
       "      <th>max</th>\n",
       "      <td>2016.000000</td>\n",
       "      <td>0.0</td>\n",
       "      <td>100.000000</td>\n",
       "      <td>323.500000</td>\n",
       "      <td>91.000000</td>\n",
       "      <td>137.650000</td>\n",
       "      <td>97.000000</td>\n",
       "      <td>236.550000</td>\n",
       "      <td>89.000000</td>\n",
       "      <td>67.580000</td>\n",
       "      <td>...</td>\n",
       "      <td>1.000000</td>\n",
       "      <td>1.000000</td>\n",
       "      <td>1.000000</td>\n",
       "      <td>1.000000</td>\n",
       "      <td>1.000000</td>\n",
       "      <td>1.000000</td>\n",
       "      <td>1.000000</td>\n",
       "      <td>1.000000</td>\n",
       "      <td>0.675455</td>\n",
       "      <td>1.000000</td>\n",
       "    </tr>\n",
       "  </tbody>\n",
       "</table>\n",
       "<p>8 rows × 115 columns</p>\n",
       "</div>"
      ],
      "text/plain": [
       "        Birth Date  Main Breed = HO         HO%    EBI Euro     EBI REL  \\\n",
       "count   379.000000            379.0  379.000000  379.000000  379.000000   \n",
       "mean   2008.823219              0.0   66.440633  113.772269   59.788918   \n",
       "std       7.473260              0.0   39.164198  107.909375   14.343768   \n",
       "min    1990.000000              0.0    0.000000 -194.910000   26.000000   \n",
       "25%    2004.000000              0.0   42.500000   25.880000   53.000000   \n",
       "50%    2013.000000              0.0   81.000000  131.060000   59.000000   \n",
       "75%    2014.000000              0.0  100.000000  199.310000   64.000000   \n",
       "max    2016.000000              0.0  100.000000  323.500000   91.000000   \n",
       "\n",
       "        Milk Prod SI Euro   Milk Prod SI REL   Fertility SI Euro  \\\n",
       "count          379.000000         379.000000          379.000000   \n",
       "mean            37.566280          69.440633           41.237546   \n",
       "std             50.001538          14.217827           67.761462   \n",
       "min            -95.430000          15.000000         -178.910000   \n",
       "25%              1.805000          65.000000           -0.760000   \n",
       "50%             48.710000          68.000000           45.820000   \n",
       "75%             74.120000          72.000000           89.875000   \n",
       "max            137.650000          97.000000          236.550000   \n",
       "\n",
       "        Fertility SI REL   Calving SI Euro  ...  dif_maint_si  dif_mgt_si  \\\n",
       "count         379.000000        379.000000  ...    379.000000  379.000000   \n",
       "mean           51.754617         32.643456  ...      0.471026    0.428792   \n",
       "std            17.580968         19.697086  ...      0.160645    0.137411   \n",
       "min            11.000000        -27.180000  ...      0.000000    0.000000   \n",
       "25%            46.000000         23.810000  ...      0.361792    0.344172   \n",
       "50%            52.000000         37.030000  ...      0.470755    0.422086   \n",
       "75%            57.000000         46.285000  ...      0.577358    0.503476   \n",
       "max            89.000000         67.580000  ...      1.000000    1.000000   \n",
       "\n",
       "       dif_health_si  dif_milk_kg  dif_fat_kg  dif_protein_kg  dif_calv_int  \\\n",
       "count     379.000000   379.000000  379.000000      379.000000    379.000000   \n",
       "mean        0.481793     0.509539    0.513747        0.540271      0.564296   \n",
       "std         0.159946     0.156004    0.162238        0.143582      0.152397   \n",
       "min         0.000000     0.000000    0.000000        0.000000      0.000000   \n",
       "25%         0.381800     0.424386    0.425297        0.457976      0.473664   \n",
       "50%         0.492252     0.511016    0.515205        0.538635      0.579396   \n",
       "75%         0.576162     0.588046    0.598061        0.620877      0.647173   \n",
       "max         1.000000     1.000000    1.000000        1.000000      1.000000   \n",
       "\n",
       "       dif_survival    mean_dif  mean_dif_cat  \n",
       "count    379.000000  379.000000    379.000000  \n",
       "mean       0.552521    0.472537      0.624011  \n",
       "std        0.132917    0.057884      0.415225  \n",
       "min        0.000000    0.277422      0.000000  \n",
       "25%        0.469799    0.434642      0.250000  \n",
       "50%        0.542282    0.471109      0.500000  \n",
       "75%        0.637584    0.509034      1.000000  \n",
       "max        1.000000    0.675455      1.000000  \n",
       "\n",
       "[8 rows x 115 columns]"
      ]
     },
     "execution_count": 152,
     "metadata": {},
     "output_type": "execute_result"
    }
   ],
   "source": [
    "#Final look at the data\n",
    "df.describe(include = 'all')"
   ]
  },
  {
   "cell_type": "markdown",
   "metadata": {},
   "source": [
    "## Part 3: Hyperparameter Optimization"
   ]
  },
  {
   "cell_type": "markdown",
   "metadata": {},
   "source": [
    "A random search and grid search will be performed with every model for every target. That can be automated with two simple algorithms that iterate over every target and save the results. Also, the benchmark performance has to be recorded for each target"
   ]
  },
  {
   "cell_type": "code",
   "execution_count": 153,
   "metadata": {},
   "outputs": [],
   "source": [
    "#Separating the data from the targets\n",
    "X , y1, y2, y3, y4, y5, y6, y7, y8, y9, y10, y11, y12, y13 = df.drop(['EBI', 'Milk SI', 'Fert SI', 'Calv SI', 'Beef SI',\n",
    "                                                                      'Maint SI', 'Mgt SI', 'Health SI', 'Milk kg', 'Fat kg',\n",
    "                                                                      'Protein kg', 'Calv. Int [days]', 'Survival %'],\n",
    "                                                                     axis = 1), df.iloc[:,-18], df.iloc[:,-17], df.iloc[:,-16], df.iloc[:,-15], df.iloc[:,-14], df.iloc[:,-13], df.iloc[:,-12], df.iloc[:,-11], df.iloc[:,-10], df.iloc[:,-9], df.iloc[:,-8], df.iloc[:,-7], df.iloc[:,-6]\n",
    "targets = [y1, y2, y3, y4, y5, y6, y7, y8, y9, y10, y11, y12, y13]"
   ]
  },
  {
   "cell_type": "code",
   "execution_count": 44,
   "metadata": {},
   "outputs": [],
   "source": [
    "#Recording the benchmark performances\n",
    "b1, b2, b3, b4, b5, b6, b7, b8, b9, b10, b11, b12, b13 = [df[' EBI Euro'], \n",
    "                                                          df[' Milk Prod SI Euro'],\n",
    "                                                          df[' Fertility SI Euro'], \n",
    "                                                          df[' Calving SI Euro'], \n",
    "                                                          df[' Carcass SI Euro'], \n",
    "                                                          df[' Maintenance SI Euro'], \n",
    "                                                          df[' Management SI Euro'], \n",
    "                                                          df[' Health SI Euro'], \n",
    "                                                          df['Production Trait Evaluation PTA Milk'], \n",
    "                                                          df['Production Trait Evaluation PTA Fat'], \n",
    "                                                          df['Production Trait Evaluation PTA Prot'], \n",
    "                                                          df['Fertility and Survival Evaluation PTA CI'], \n",
    "                                                          df['Fertility and Survival Evaluation PTA SUV']]\n",
    "benchmark = [b1, b2, b3, b4, b5, b6, b7, b8, b9, b10, b11, b12, b13]\n",
    "bench_record = []\n",
    "for i in range(len(benchmark)):\n",
    "    bench_record += [r2_score(targets[i], benchmark[i])]"
   ]
  },
  {
   "cell_type": "markdown",
   "metadata": {},
   "source": [
    "### Random Forest"
   ]
  },
  {
   "cell_type": "code",
   "execution_count": 46,
   "metadata": {
    "collapsed": true
   },
   "outputs": [
    {
     "name": "stdout",
     "output_type": "stream",
     "text": [
      "Fitting 5 folds for each of 50 candidates, totalling 250 fits\n",
      "Fitting 5 folds for each of 50 candidates, totalling 250 fits\n",
      "Fitting 5 folds for each of 50 candidates, totalling 250 fits\n",
      "Fitting 5 folds for each of 50 candidates, totalling 250 fits\n",
      "Fitting 5 folds for each of 50 candidates, totalling 250 fits\n",
      "Fitting 5 folds for each of 50 candidates, totalling 250 fits\n",
      "Fitting 5 folds for each of 50 candidates, totalling 250 fits\n",
      "Fitting 5 folds for each of 50 candidates, totalling 250 fits\n",
      "Fitting 5 folds for each of 50 candidates, totalling 250 fits\n",
      "Fitting 5 folds for each of 50 candidates, totalling 250 fits\n",
      "Fitting 5 folds for each of 50 candidates, totalling 250 fits\n",
      "Fitting 5 folds for each of 50 candidates, totalling 250 fits\n",
      "Fitting 5 folds for each of 50 candidates, totalling 250 fits\n"
     ]
    }
   ],
   "source": [
    "#Automatized randomized search over every target\n",
    "test = 0.33\n",
    "record = []\n",
    "params = []\n",
    "estimators = []\n",
    "##########\n",
    "# Random Grid setting\n",
    "max_depth = [int(x) for x in np.linspace(10, 110, num = 10)]\n",
    "max_depth.append(None)\n",
    "random_grid = {'n_estimators': [int(x) for x in np.linspace(10, 400, num = 10)],\n",
    "               'max_features': [1.0, 'sqrt'],\n",
    "               'max_depth': max_depth,\n",
    "               'min_samples_split': [2, 5, 10],\n",
    "               'min_samples_leaf': [1, 2, 4],\n",
    "               'bootstrap': [True, False]}\n",
    "##############\n",
    "\n",
    "for i in targets:\n",
    "    X_train, X_test, y_train, y_test = train_test_split(X, i, test_size=test, random_state=42)\n",
    "    clf = RandomForestRegressor(random_state=42)\n",
    "    clf_rand = RandomizedSearchCV(estimator = clf, param_distributions = random_grid, n_iter = 50, cv = 5, verbose=2, random_state=42, n_jobs = -1)\n",
    "    clf_rand.fit(X_train, y_train)\n",
    "    record += [clf_rand.score(X_test, y_test)]\n",
    "    params += [clf_rand.best_params_]\n",
    "    estimators += [clf_rand.best_estimator_]"
   ]
  },
  {
   "cell_type": "code",
   "execution_count": 47,
   "metadata": {},
   "outputs": [
    {
     "data": {
      "image/png": "[encoded data removed]",
      "text/plain": [
       "<Figure size 1296x432 with 1 Axes>"
      ]
     },
     "metadata": {
      "needs_background": "light"
     },
     "output_type": "display_data"
    }
   ],
   "source": [
    "#Plotting the randomized search results in comparison to the benchmark results \n",
    "x = ['EBI', 'Milk SI', 'Fert SI', 'Calv SI', 'Beef SI', 'Maint SI', 'Mgt SI', 'Health SI', 'Milk kg', 'Fat kg', 'Protein kg', 'Calv. Int [days]', 'Survival %']\n",
    "y = np.array(record) - np.array(bench_record)\n",
    "\n",
    "cc=['colors']*len(y)\n",
    "for n,val in enumerate(y):\n",
    "    if val<0:\n",
    "        cc[n]='red'\n",
    "    elif val>=0:\n",
    "        cc[n]='blue'\n",
    "\n",
    "\n",
    "figure(figsize=(18, 6))\n",
    "plt.bar(x, y, color = cc)\n",
    "plt.title('R2 score gain')\n",
    "plt.show()"
   ]
  },
  {
   "cell_type": "markdown",
   "metadata": {},
   "source": [
    "Now, for every feature, I'm going to perform a grid search to optimize the models"
   ]
  },
  {
   "cell_type": "code",
   "execution_count": 48,
   "metadata": {},
   "outputs": [],
   "source": [
    "#supporting function\n",
    "def max_calc(i):\n",
    "    if type(params[i]['max_depth']) == int:\n",
    "        return [abs(int(x)) for x in np.linspace(params[i]['max_depth']-(((110-10)/9)/2), params[i]['max_depth']+(((110-10)/9)/2), num = 4)]\n",
    "    else:\n",
    "        return [None]"
   ]
  },
  {
   "cell_type": "code",
   "execution_count": 49,
   "metadata": {
    "collapsed": true
   },
   "outputs": [
    {
     "name": "stdout",
     "output_type": "stream",
     "text": [
      "Fitting 5 folds for each of 96 candidates, totalling 480 fits\n",
      "Fitting 5 folds for each of 36 candidates, totalling 180 fits\n",
      "Fitting 5 folds for each of 144 candidates, totalling 720 fits\n",
      "Fitting 5 folds for each of 36 candidates, totalling 180 fits\n",
      "Fitting 5 folds for each of 96 candidates, totalling 480 fits\n",
      "Fitting 5 folds for each of 96 candidates, totalling 480 fits\n",
      "Fitting 5 folds for each of 36 candidates, totalling 180 fits\n",
      "Fitting 5 folds for each of 36 candidates, totalling 180 fits\n",
      "Fitting 5 folds for each of 36 candidates, totalling 180 fits\n",
      "Fitting 5 folds for each of 96 candidates, totalling 480 fits\n",
      "Fitting 5 folds for each of 96 candidates, totalling 480 fits\n",
      "Fitting 5 folds for each of 36 candidates, totalling 180 fits\n",
      "Fitting 5 folds for each of 36 candidates, totalling 180 fits\n"
     ]
    }
   ],
   "source": [
    "### Automatized grid search for each target feature\n",
    "grid_record = []\n",
    "grid_params = []\n",
    "grid_estimators = []\n",
    "for i in range(len(record)):\n",
    "    param_grid = {\n",
    "        'bootstrap': [params[i]['bootstrap']],\n",
    "        'max_depth': max_calc(i), \n",
    "        'max_features': [params[i]['max_features']],\n",
    "        'min_samples_leaf': [int(x) for x in np.linspace(params[i]['min_samples_leaf']-1, params[i]['min_samples_leaf']+1, num = 3) if x > 0],\n",
    "        'min_samples_split': [int(x) for x in np.linspace(params[i]['min_samples_split']-1, params[i]['min_samples_split']+1, num = 3) if x > 1],\n",
    "        'n_estimators': [abs(int(x)) for x in np.linspace(params[i]['n_estimators']-(((400-10)/9)/2), params[i]['n_estimators']+(((400-10)/9)/2), num = 4)]\n",
    "    }\n",
    "    clf = RandomForestRegressor(random_state=42)\n",
    "    grid_search = GridSearchCV(estimator = clf, param_grid = param_grid, cv = 5, n_jobs = -1, verbose = 2)\n",
    "    X_train, X_test, y_train, y_test = train_test_split(X, targets[i], test_size=test, random_state=42)\n",
    "    grid_search.fit(X_train, y_train)\n",
    "    grid_record += [grid_search.score(X_test, y_test)]\n",
    "    grid_params += [grid_search.best_params_]\n",
    "    grid_estimators += [grid_search.best_estimator_]"
   ]
  },
  {
   "cell_type": "code",
   "execution_count": 50,
   "metadata": {},
   "outputs": [
    {
     "data": {
      "image/png": "[encoded data removed]",
      "text/plain": [
       "<Figure size 1296x432 with 1 Axes>"
      ]
     },
     "metadata": {
      "needs_background": "light"
     },
     "output_type": "display_data"
    }
   ],
   "source": [
    "#Plotting the grid search results in comparison to the randomized search results\n",
    "x = ['EBI', 'Milk SI', 'Fert SI', 'Calv SI', 'Beef SI', 'Maint SI', 'Mgt SI', 'Health SI', 'Milk kg', 'Fat kg', 'Protein kg', 'Calv. Int [days]', 'Survival %']\n",
    "y = np.array(grid_record) - np.array(record)\n",
    "\n",
    "cc=['colors']*len(y)\n",
    "for n,val in enumerate(y):\n",
    "    if val<0:\n",
    "        cc[n]='red'\n",
    "    elif val>=0:\n",
    "        cc[n]='blue'\n",
    "\n",
    "\n",
    "figure(figsize=(18, 6))\n",
    "plt.bar(x, y, color = cc)\n",
    "plt.title('R2 score gain')\n",
    "plt.show()"
   ]
  },
  {
   "cell_type": "code",
   "execution_count": 51,
   "metadata": {},
   "outputs": [],
   "source": [
    "#Keeping only the grid search parameters that performed better than the randomized search ones\n",
    "final_record = []\n",
    "final_params = []\n",
    "final_estimators = []\n",
    "for i in range(len(record)):\n",
    "    if grid_record[i] > record[i]:\n",
    "        final_record += [grid_record[i]]\n",
    "        final_params += [grid_params[i]]\n",
    "        final_estimators += [grid_estimators[i]]\n",
    "    else:\n",
    "        final_record += [record[i]]\n",
    "        final_params += [params[i]]\n",
    "        final_estimators += [estimators[i]]"
   ]
  },
  {
   "cell_type": "code",
   "execution_count": 52,
   "metadata": {
    "scrolled": false
   },
   "outputs": [
    {
     "data": {
      "image/png": "[encoded data removed]",
      "text/plain": [
       "<Figure size 1296x432 with 1 Axes>"
      ]
     },
     "metadata": {
      "needs_background": "light"
     },
     "output_type": "display_data"
    }
   ],
   "source": [
    "#Plotting the final results in comparison to the benchmark\n",
    "x = ['EBI', 'Milk SI', 'Fert SI', 'Calv SI', 'Beef SI', 'Maint SI', 'Mgt SI', 'Health SI', 'Milk kg', 'Fat kg', 'Protein kg', 'Calv. Int [days]', 'Survival %']\n",
    "y = np.array(final_record) - np.array(bench_record)\n",
    "\n",
    "cc=['colors']*len(y)\n",
    "for n,val in enumerate(y):\n",
    "    if val<0:\n",
    "        cc[n]='red'\n",
    "    elif val>=0:\n",
    "        cc[n]='blue'\n",
    "\n",
    "\n",
    "figure(figsize=(18, 6))\n",
    "plt.bar(x, y, color = cc)\n",
    "plt.title('R2 score gain')\n",
    "plt.show()"
   ]
  },
  {
   "cell_type": "markdown",
   "metadata": {},
   "source": [
    "### Gradient Boosting"
   ]
  },
  {
   "cell_type": "code",
   "execution_count": 53,
   "metadata": {
    "collapsed": true
   },
   "outputs": [
    {
     "name": "stdout",
     "output_type": "stream",
     "text": [
      "Fitting 5 folds for each of 50 candidates, totalling 250 fits\n",
      "Fitting 5 folds for each of 50 candidates, totalling 250 fits\n",
      "Fitting 5 folds for each of 50 candidates, totalling 250 fits\n",
      "Fitting 5 folds for each of 50 candidates, totalling 250 fits\n",
      "Fitting 5 folds for each of 50 candidates, totalling 250 fits\n",
      "Fitting 5 folds for each of 50 candidates, totalling 250 fits\n",
      "Fitting 5 folds for each of 50 candidates, totalling 250 fits\n",
      "Fitting 5 folds for each of 50 candidates, totalling 250 fits\n",
      "Fitting 5 folds for each of 50 candidates, totalling 250 fits\n",
      "Fitting 5 folds for each of 50 candidates, totalling 250 fits\n",
      "Fitting 5 folds for each of 50 candidates, totalling 250 fits\n",
      "Fitting 5 folds for each of 50 candidates, totalling 250 fits\n",
      "Fitting 5 folds for each of 50 candidates, totalling 250 fits\n"
     ]
    }
   ],
   "source": [
    "test = 0.33\n",
    "reg_record = []\n",
    "reg_params = []\n",
    "reg_estimators = []\n",
    "\n",
    "\n",
    "random_grid = {\n",
    "    \"n_estimators\": [1, 2, 5, 10, 20, 50, 100, 200, 500],\n",
    "    \"max_leaf_nodes\": [2, 5, 10, 20, 50, 100],\n",
    "    \"learning_rate\": [x for x in np.linspace(0.1, 1.0, num = 10)]\n",
    "}\n",
    "\n",
    "\n",
    "for i in targets:\n",
    "    X_train, X_test, y_train, y_test = train_test_split(X, i, test_size=test, random_state=42)\n",
    "    reg = GradientBoostingRegressor(random_state=42)\n",
    "    reg_rand = RandomizedSearchCV(estimator = reg, param_distributions = random_grid, n_iter = 50, cv = 5, verbose=2, random_state=42, n_jobs = -1, error_score='raise')\n",
    "    reg_rand.fit(X_train, y_train)\n",
    "    reg_record += [reg_rand.score(X_test, y_test)]\n",
    "    reg_params += [reg_rand.best_params_]\n",
    "    reg_estimators += [reg_rand.best_estimator_]"
   ]
  },
  {
   "cell_type": "code",
   "execution_count": 54,
   "metadata": {
    "scrolled": false
   },
   "outputs": [
    {
     "data": {
      "image/png": "[encoded data removed]",
      "text/plain": [
       "<Figure size 1296x432 with 1 Axes>"
      ]
     },
     "metadata": {
      "needs_background": "light"
     },
     "output_type": "display_data"
    }
   ],
   "source": [
    "#Plotting the randomized search results in comparison to the benchmark results\n",
    "x = ['EBI', 'Milk SI', 'Fert SI', 'Calv SI', 'Beef SI', 'Maint SI', 'Mgt SI', 'Health SI', 'Milk kg', 'Fat kg', 'Protein kg', 'Calv. Int [days]', 'Survival %']\n",
    "y = np.array(reg_record) - np.array(bench_record)\n",
    "\n",
    "cc=['colors']*len(y)\n",
    "for n,val in enumerate(y):\n",
    "    if val<0:\n",
    "        cc[n]='red'\n",
    "    elif val>=0:\n",
    "        cc[n]='blue'\n",
    "\n",
    "\n",
    "figure(figsize=(18, 6))\n",
    "plt.bar(x, y, color = cc)\n",
    "plt.title('R2 score gain')\n",
    "plt.show()"
   ]
  },
  {
   "cell_type": "code",
   "execution_count": 55,
   "metadata": {
    "collapsed": true
   },
   "outputs": [
    {
     "name": "stdout",
     "output_type": "stream",
     "text": [
      "Fitting 5 folds for each of 105 candidates, totalling 525 fits\n",
      "Fitting 5 folds for each of 105 candidates, totalling 525 fits\n",
      "Fitting 5 folds for each of 105 candidates, totalling 525 fits\n",
      "Fitting 5 folds for each of 105 candidates, totalling 525 fits\n",
      "Fitting 5 folds for each of 100 candidates, totalling 500 fits\n",
      "Fitting 5 folds for each of 105 candidates, totalling 525 fits\n",
      "Fitting 5 folds for each of 140 candidates, totalling 700 fits\n",
      "Fitting 5 folds for each of 105 candidates, totalling 525 fits\n",
      "Fitting 5 folds for each of 105 candidates, totalling 525 fits\n",
      "Fitting 5 folds for each of 105 candidates, totalling 525 fits\n",
      "Fitting 5 folds for each of 105 candidates, totalling 525 fits\n",
      "Fitting 5 folds for each of 105 candidates, totalling 525 fits\n",
      "Fitting 5 folds for each of 105 candidates, totalling 525 fits\n"
     ]
    }
   ],
   "source": [
    "### Automatized grid search for each target feature\n",
    "reg_grid_record = []\n",
    "reg_grid_params = []\n",
    "reg_grid_estimators = []\n",
    "for i in range(len(reg_record)):\n",
    "    param_grid = {\n",
    "        'n_estimators': list(np.unique([int(x) for x in np.linspace(math.floor(reg_params[i]['n_estimators']*(1-0.125)), math.ceil(reg_params[i]['n_estimators']*1.125), num = 7) if int(x) > 0])),\n",
    "        'max_leaf_nodes': [int(x) for x in np.linspace(reg_params[i]['max_leaf_nodes']-1, reg_params[i]['max_leaf_nodes']+2, num = 4) if int(x) > 1],\n",
    "        'learning_rate': [x for x in np.linspace(reg_params[i]['learning_rate']*0.1, reg_params[i]['learning_rate']*1.9, num = 5)]\n",
    "    }\n",
    "    reg = GradientBoostingRegressor(random_state=42)\n",
    "    grid_search = GridSearchCV(estimator = reg, param_grid = param_grid, cv = 5, n_jobs = -1, verbose = 2)\n",
    "    X_train, X_test, y_train, y_test = train_test_split(X, targets[i], test_size=test, random_state=42)\n",
    "    grid_search.fit(X_train, y_train)\n",
    "    reg_grid_record += [grid_search.score(X_test, y_test)]\n",
    "    reg_grid_params += [grid_search.best_params_]\n",
    "    reg_grid_estimators += [grid_search.best_estimator_]"
   ]
  },
  {
   "cell_type": "code",
   "execution_count": 56,
   "metadata": {},
   "outputs": [
    {
     "data": {
      "image/png": "[encoded data removed]",
      "text/plain": [
       "<Figure size 1296x432 with 1 Axes>"
      ]
     },
     "metadata": {
      "needs_background": "light"
     },
     "output_type": "display_data"
    }
   ],
   "source": [
    "x = ['EBI', 'Milk SI', 'Fert SI', 'Calv SI', 'Beef SI', 'Maint SI', 'Mgt SI', 'Health SI', 'Milk kg', 'Fat kg', 'Protein kg', 'Calv. Int [days]', 'Survival %']\n",
    "y = np.array(reg_grid_record) - np.array(reg_record)\n",
    "\n",
    "cc=['colors']*len(y)\n",
    "for n,val in enumerate(y):\n",
    "    if val<0:\n",
    "        cc[n]='red'\n",
    "    elif val>=0:\n",
    "        cc[n]='blue'\n",
    "\n",
    "\n",
    "figure(figsize=(18, 6))\n",
    "plt.bar(x, y, color = cc)\n",
    "plt.title('R2 score gain')\n",
    "plt.show()"
   ]
  },
  {
   "cell_type": "code",
   "execution_count": 57,
   "metadata": {},
   "outputs": [],
   "source": [
    "#Keeping only the grid search parameters that performed better than the randomized search ones\n",
    "final_reg_record = []\n",
    "final_reg_params = []\n",
    "final_reg_estimators = []\n",
    "for i in range(len(reg_record)):\n",
    "    if reg_grid_record[i] > reg_record[i]:\n",
    "        final_reg_record += [reg_grid_record[i]]\n",
    "        final_reg_params += [reg_grid_params[i]]\n",
    "        final_reg_estimators += [reg_grid_estimators[i]]\n",
    "    else:\n",
    "        final_reg_record += [reg_record[i]]\n",
    "        final_reg_params += [reg_params[i]]\n",
    "        final_reg_estimators += [reg_estimators[i]]"
   ]
  },
  {
   "cell_type": "code",
   "execution_count": 58,
   "metadata": {},
   "outputs": [
    {
     "data": {
      "image/png": "[encoded data removed]",
      "text/plain": [
       "<Figure size 1296x432 with 1 Axes>"
      ]
     },
     "metadata": {
      "needs_background": "light"
     },
     "output_type": "display_data"
    }
   ],
   "source": [
    "#Plotting the final results in comparison to the benchmark\n",
    "x = ['EBI', 'Milk SI', 'Fert SI', 'Calv SI', 'Beef SI', 'Maint SI', 'Mgt SI', 'Health SI', 'Milk kg', 'Fat kg', 'Protein kg', 'Calv. Int [days]', 'Survival %']\n",
    "y = np.array(final_reg_record) - np.array(bench_record)\n",
    "\n",
    "cc=['colors']*len(y)\n",
    "for n,val in enumerate(y):\n",
    "    if val<0:\n",
    "        cc[n]='red'\n",
    "    elif val>=0:\n",
    "        cc[n]='blue'\n",
    "\n",
    "\n",
    "figure(figsize=(18, 6))\n",
    "plt.bar(x, y, color = cc)\n",
    "plt.title('R2 score gain')\n",
    "plt.show()"
   ]
  },
  {
   "cell_type": "markdown",
   "metadata": {},
   "source": [
    "### Elastic Net"
   ]
  },
  {
   "cell_type": "code",
   "execution_count": 59,
   "metadata": {
    "collapsed": true
   },
   "outputs": [
    {
     "name": "stdout",
     "output_type": "stream",
     "text": [
      "Fitting 5 folds for each of 200 candidates, totalling 1000 fits\n",
      "Fitting 5 folds for each of 200 candidates, totalling 1000 fits\n",
      "Fitting 5 folds for each of 200 candidates, totalling 1000 fits\n"
     ]
    },
    {
     "name": "stderr",
     "output_type": "stream",
     "text": [
      "C:\\Users\\emili\\AppData\\Local\\Programs\\Python\\Python310\\lib\\site-packages\\sklearn\\linear_model\\_coordinate_descent.py:648: ConvergenceWarning: Objective did not converge. You might want to increase the number of iterations, check the scale of the features or consider increasing regularisation. Duality gap: 9.175e+04, tolerance: 9.252e+01 Linear regression models with null weight for the l1 regularization term are more efficiently fitted using one of the solvers implemented in sklearn.linear_model.Ridge/RidgeCV instead.\n",
      "  model = cd_fast.enet_coordinate_descent(\n"
     ]
    },
    {
     "name": "stdout",
     "output_type": "stream",
     "text": [
      "Fitting 5 folds for each of 200 candidates, totalling 1000 fits\n",
      "Fitting 5 folds for each of 200 candidates, totalling 1000 fits\n",
      "Fitting 5 folds for each of 200 candidates, totalling 1000 fits\n",
      "Fitting 5 folds for each of 200 candidates, totalling 1000 fits\n",
      "Fitting 5 folds for each of 200 candidates, totalling 1000 fits\n"
     ]
    },
    {
     "name": "stderr",
     "output_type": "stream",
     "text": [
      "C:\\Users\\emili\\AppData\\Local\\Programs\\Python\\Python310\\lib\\site-packages\\sklearn\\linear_model\\_coordinate_descent.py:648: ConvergenceWarning: Objective did not converge. You might want to increase the number of iterations, check the scale of the features or consider increasing regularisation. Duality gap: 1.268e+01, tolerance: 2.128e+00\n",
      "  model = cd_fast.enet_coordinate_descent(\n"
     ]
    },
    {
     "name": "stdout",
     "output_type": "stream",
     "text": [
      "Fitting 5 folds for each of 200 candidates, totalling 1000 fits\n",
      "Fitting 5 folds for each of 200 candidates, totalling 1000 fits\n"
     ]
    },
    {
     "name": "stderr",
     "output_type": "stream",
     "text": [
      "C:\\Users\\emili\\AppData\\Local\\Programs\\Python\\Python310\\lib\\site-packages\\sklearn\\linear_model\\_coordinate_descent.py:648: ConvergenceWarning: Objective did not converge. You might want to increase the number of iterations, check the scale of the features or consider increasing regularisation. Duality gap: 3.258e+00, tolerance: 2.155e+00\n",
      "  model = cd_fast.enet_coordinate_descent(\n"
     ]
    },
    {
     "name": "stdout",
     "output_type": "stream",
     "text": [
      "Fitting 5 folds for each of 200 candidates, totalling 1000 fits\n",
      "Fitting 5 folds for each of 200 candidates, totalling 1000 fits\n"
     ]
    },
    {
     "name": "stderr",
     "output_type": "stream",
     "text": [
      "C:\\Users\\emili\\AppData\\Local\\Programs\\Python\\Python310\\lib\\site-packages\\sklearn\\linear_model\\_coordinate_descent.py:648: ConvergenceWarning: Objective did not converge. You might want to increase the number of iterations, check the scale of the features or consider increasing regularisation. Duality gap: 3.898e+02, tolerance: 3.323e-01 Linear regression models with null weight for the l1 regularization term are more efficiently fitted using one of the solvers implemented in sklearn.linear_model.Ridge/RidgeCV instead.\n",
      "  model = cd_fast.enet_coordinate_descent(\n"
     ]
    },
    {
     "name": "stdout",
     "output_type": "stream",
     "text": [
      "Fitting 5 folds for each of 200 candidates, totalling 1000 fits\n"
     ]
    },
    {
     "name": "stderr",
     "output_type": "stream",
     "text": [
      "C:\\Users\\emili\\AppData\\Local\\Programs\\Python\\Python310\\lib\\site-packages\\sklearn\\linear_model\\_coordinate_descent.py:648: ConvergenceWarning: Objective did not converge. You might want to increase the number of iterations, check the scale of the features or consider increasing regularisation. Duality gap: 4.252e-01, tolerance: 6.453e-02\n",
      "  model = cd_fast.enet_coordinate_descent(\n"
     ]
    }
   ],
   "source": [
    "test = 0.33\n",
    "el_record = []\n",
    "el_params = []\n",
    "el_estimators = []\n",
    "\n",
    "##########\n",
    "# Random Grid setting\n",
    "random_grid = {'alpha': [1e-5, 1e-4, 1e-3, 1e-2, 1e-1, 0.0, 1.0, 10.0, 100.0],\n",
    "               'l1_ratio': np.linspace(0.0, 0.99, 100)}\n",
    "##############\n",
    "\n",
    "for i in targets:\n",
    "    X_train, X_test, y_train, y_test = train_test_split(X, i, test_size=test, random_state=42)\n",
    "    el = ElasticNet(random_state=42)\n",
    "    el_rand = RandomizedSearchCV(estimator = el, param_distributions = random_grid, n_iter = 200, cv = 5, verbose=2, random_state=42, n_jobs = -1)\n",
    "    el_rand.fit(X_train, y_train)\n",
    "    el_record += [el_rand.score(X_test, y_test)]\n",
    "    el_params += [el_rand.best_params_]\n",
    "    el_estimators += [el_rand.best_estimator_]"
   ]
  },
  {
   "cell_type": "code",
   "execution_count": 60,
   "metadata": {},
   "outputs": [
    {
     "data": {
      "image/png": "[encoded data removed]",
      "text/plain": [
       "<Figure size 1296x432 with 1 Axes>"
      ]
     },
     "metadata": {
      "needs_background": "light"
     },
     "output_type": "display_data"
    }
   ],
   "source": [
    "#Plotting the randomized search results in comparison to the benchmark results\n",
    "x = ['EBI', 'Milk SI', 'Fert SI', 'Calv SI', 'Beef SI', 'Maint SI', 'Mgt SI', 'Health SI', 'Milk kg', 'Fat kg', 'Protein kg', 'Calv. Int [days]', 'Survival %']\n",
    "y = np.array(el_record) - np.array(bench_record)\n",
    "\n",
    "cc=['colors']*len(y)\n",
    "for n,val in enumerate(y):\n",
    "    if val<0:\n",
    "        cc[n]='red'\n",
    "    elif val>=0:\n",
    "        cc[n]='blue'\n",
    "\n",
    "\n",
    "figure(figsize=(18, 6))\n",
    "plt.bar(x, y, color = cc)\n",
    "plt.title('R2 score gain')\n",
    "plt.show()"
   ]
  },
  {
   "cell_type": "code",
   "execution_count": 61,
   "metadata": {
    "collapsed": true
   },
   "outputs": [
    {
     "name": "stdout",
     "output_type": "stream",
     "text": [
      "Fitting 5 folds for each of 1681 candidates, totalling 8405 fits\n"
     ]
    },
    {
     "name": "stderr",
     "output_type": "stream",
     "text": [
      "C:\\Users\\emili\\AppData\\Local\\Programs\\Python\\Python310\\lib\\site-packages\\sklearn\\linear_model\\_coordinate_descent.py:648: ConvergenceWarning: Objective did not converge. You might want to increase the number of iterations, check the scale of the features or consider increasing regularisation. Duality gap: 5.906e+04, tolerance: 2.520e+02\n",
      "  model = cd_fast.enet_coordinate_descent(\n"
     ]
    },
    {
     "name": "stdout",
     "output_type": "stream",
     "text": [
      "Fitting 5 folds for each of 1681 candidates, totalling 8405 fits\n",
      "Fitting 5 folds for each of 861 candidates, totalling 4305 fits\n"
     ]
    },
    {
     "name": "stderr",
     "output_type": "stream",
     "text": [
      "C:\\Users\\emili\\AppData\\Local\\Programs\\Python\\Python310\\lib\\site-packages\\sklearn\\linear_model\\_coordinate_descent.py:648: ConvergenceWarning: Objective did not converge. You might want to increase the number of iterations, check the scale of the features or consider increasing regularisation. Duality gap: 9.144e+04, tolerance: 9.252e+01 Linear regression models with null weight for the l1 regularization term are more efficiently fitted using one of the solvers implemented in sklearn.linear_model.Ridge/RidgeCV instead.\n",
      "  model = cd_fast.enet_coordinate_descent(\n"
     ]
    },
    {
     "name": "stdout",
     "output_type": "stream",
     "text": [
      "Fitting 5 folds for each of 1681 candidates, totalling 8405 fits\n",
      "Fitting 5 folds for each of 1681 candidates, totalling 8405 fits\n",
      "Fitting 5 folds for each of 1681 candidates, totalling 8405 fits\n",
      "Fitting 5 folds for each of 1681 candidates, totalling 8405 fits\n",
      "Fitting 5 folds for each of 1681 candidates, totalling 8405 fits\n"
     ]
    },
    {
     "name": "stderr",
     "output_type": "stream",
     "text": [
      "C:\\Users\\emili\\AppData\\Local\\Programs\\Python\\Python310\\lib\\site-packages\\sklearn\\linear_model\\_coordinate_descent.py:648: ConvergenceWarning: Objective did not converge. You might want to increase the number of iterations, check the scale of the features or consider increasing regularisation. Duality gap: 7.853e+00, tolerance: 2.128e+00\n",
      "  model = cd_fast.enet_coordinate_descent(\n"
     ]
    },
    {
     "name": "stdout",
     "output_type": "stream",
     "text": [
      "Fitting 5 folds for each of 1681 candidates, totalling 8405 fits\n",
      "Fitting 5 folds for each of 1681 candidates, totalling 8405 fits\n"
     ]
    },
    {
     "name": "stderr",
     "output_type": "stream",
     "text": [
      "C:\\Users\\emili\\AppData\\Local\\Programs\\Python\\Python310\\lib\\site-packages\\sklearn\\linear_model\\_coordinate_descent.py:648: ConvergenceWarning: Objective did not converge. You might want to increase the number of iterations, check the scale of the features or consider increasing regularisation. Duality gap: 2.203e+00, tolerance: 2.155e+00\n",
      "  model = cd_fast.enet_coordinate_descent(\n"
     ]
    },
    {
     "name": "stdout",
     "output_type": "stream",
     "text": [
      "Fitting 5 folds for each of 1681 candidates, totalling 8405 fits\n",
      "Fitting 5 folds for each of 861 candidates, totalling 4305 fits\n"
     ]
    },
    {
     "name": "stderr",
     "output_type": "stream",
     "text": [
      "C:\\Users\\emili\\AppData\\Local\\Programs\\Python\\Python310\\lib\\site-packages\\sklearn\\linear_model\\_coordinate_descent.py:648: ConvergenceWarning: Objective did not converge. You might want to increase the number of iterations, check the scale of the features or consider increasing regularisation. Duality gap: 4.052e+02, tolerance: 3.323e-01 Linear regression models with null weight for the l1 regularization term are more efficiently fitted using one of the solvers implemented in sklearn.linear_model.Ridge/RidgeCV instead.\n",
      "  model = cd_fast.enet_coordinate_descent(\n"
     ]
    },
    {
     "name": "stdout",
     "output_type": "stream",
     "text": [
      "Fitting 5 folds for each of 1681 candidates, totalling 8405 fits\n"
     ]
    },
    {
     "name": "stderr",
     "output_type": "stream",
     "text": [
      "C:\\Users\\emili\\AppData\\Local\\Programs\\Python\\Python310\\lib\\site-packages\\sklearn\\linear_model\\_coordinate_descent.py:648: ConvergenceWarning: Objective did not converge. You might want to increase the number of iterations, check the scale of the features or consider increasing regularisation. Duality gap: 7.716e-01, tolerance: 6.453e-02\n",
      "  model = cd_fast.enet_coordinate_descent(\n"
     ]
    }
   ],
   "source": [
    "### Automatized grid search for each target feature\n",
    "el_grid_record = []\n",
    "el_grid_params = []\n",
    "el_grid_estimators = []\n",
    "for i in range(len(el_record)):\n",
    "    param_grid = {\n",
    "        'l1_ratio': [x for x in np.linspace(el_params[i]['l1_ratio']- 0.005, el_params[i]['l1_ratio']+ 0.005, num = 41) if x >= 0],\n",
    "        'alpha': [x for x in np.linspace(el_params[i]['alpha']*0.1, el_params[i]['alpha']*1.9, num = 41)]\n",
    "    }\n",
    "    el = ElasticNet(random_state=42)\n",
    "    grid_search = GridSearchCV(estimator = el, param_grid = param_grid, cv = 5, n_jobs = -1, verbose = 2)\n",
    "    X_train, X_test, y_train, y_test = train_test_split(X, targets[i], test_size=test, random_state=42)\n",
    "    grid_search.fit(X_train, y_train)\n",
    "    el_grid_record += [grid_search.score(X_test, y_test)]\n",
    "    el_grid_params += [grid_search.best_params_]\n",
    "    el_grid_estimators += [grid_search.best_estimator_]"
   ]
  },
  {
   "cell_type": "code",
   "execution_count": 62,
   "metadata": {},
   "outputs": [
    {
     "data": {
      "image/png": "[encoded data removed]",
      "text/plain": [
       "<Figure size 1296x432 with 1 Axes>"
      ]
     },
     "metadata": {
      "needs_background": "light"
     },
     "output_type": "display_data"
    }
   ],
   "source": [
    "#Plotting the grid search results in comparison to the randomized search results\n",
    "x = ['EBI', 'Milk SI', 'Fert SI', 'Calv SI', 'Beef SI', 'Maint SI', 'Mgt SI', 'Health SI', 'Milk kg', 'Fat kg', 'Protein kg', 'Calv. Int [days]', 'Survival %']\n",
    "y = np.array(el_grid_record) - np.array(el_record)\n",
    "\n",
    "cc=['colors']*len(y)\n",
    "for n,val in enumerate(y):\n",
    "    if val<0:\n",
    "        cc[n]='red'\n",
    "    elif val>=0:\n",
    "        cc[n]='blue'\n",
    "\n",
    "\n",
    "figure(figsize=(18, 6))\n",
    "plt.bar(x, y, color = cc)\n",
    "plt.title('R2 score gain')\n",
    "plt.show()"
   ]
  },
  {
   "cell_type": "code",
   "execution_count": 63,
   "metadata": {},
   "outputs": [],
   "source": [
    "#Keeping only the grid search parameters that performed better than the randomized search ones\n",
    "final_el_record = []\n",
    "final_el_params = []\n",
    "final_el_estimators = []\n",
    "for i in range(len(el_record)):\n",
    "    if el_grid_record[i] > el_record[i]:\n",
    "        final_el_record += [el_grid_record[i]]\n",
    "        final_el_params += [el_grid_params[i]]\n",
    "        final_el_estimators += [el_grid_estimators[i]]\n",
    "    else:\n",
    "        final_el_record += [el_record[i]]\n",
    "        final_el_params += [el_params[i]]\n",
    "        final_el_estimators += [el_estimators[i]]"
   ]
  },
  {
   "cell_type": "code",
   "execution_count": 64,
   "metadata": {},
   "outputs": [
    {
     "data": {
      "image/png": "[encoded data removed]",
      "text/plain": [
       "<Figure size 1296x432 with 1 Axes>"
      ]
     },
     "metadata": {
      "needs_background": "light"
     },
     "output_type": "display_data"
    }
   ],
   "source": [
    "#Plotting the final results in comparison to the benchmark\n",
    "x = ['EBI', 'Milk SI', 'Fert SI', 'Calv SI', 'Beef SI', 'Maint SI', 'Mgt SI', 'Health SI', 'Milk kg', 'Fat kg', 'Protein kg', 'Calv. Int [days]', 'Survival %']\n",
    "y = np.array(final_el_record) - np.array(bench_record)\n",
    "\n",
    "cc=['colors']*len(y)\n",
    "for n,val in enumerate(y):\n",
    "    if val<0:\n",
    "        cc[n]='red'\n",
    "    elif val>=0:\n",
    "        cc[n]='blue'\n",
    "\n",
    "\n",
    "figure(figsize=(18, 6))\n",
    "plt.bar(x, y, color = cc)\n",
    "plt.title('R2 score gain')\n",
    "plt.show()"
   ]
  },
  {
   "cell_type": "markdown",
   "metadata": {},
   "source": [
    "### MLP"
   ]
  },
  {
   "cell_type": "code",
   "execution_count": 66,
   "metadata": {
    "collapsed": true
   },
   "outputs": [
    {
     "name": "stdout",
     "output_type": "stream",
     "text": [
      "Fitting 5 folds for each of 200 candidates, totalling 1000 fits\n",
      "Fitting 5 folds for each of 200 candidates, totalling 1000 fits\n",
      "Fitting 5 folds for each of 200 candidates, totalling 1000 fits\n",
      "Fitting 5 folds for each of 200 candidates, totalling 1000 fits\n",
      "Fitting 5 folds for each of 200 candidates, totalling 1000 fits\n",
      "Fitting 5 folds for each of 200 candidates, totalling 1000 fits\n",
      "Fitting 5 folds for each of 200 candidates, totalling 1000 fits\n",
      "Fitting 5 folds for each of 200 candidates, totalling 1000 fits\n",
      "Fitting 5 folds for each of 200 candidates, totalling 1000 fits\n",
      "Fitting 5 folds for each of 200 candidates, totalling 1000 fits\n",
      "Fitting 5 folds for each of 200 candidates, totalling 1000 fits\n",
      "Fitting 5 folds for each of 200 candidates, totalling 1000 fits\n",
      "Fitting 5 folds for each of 200 candidates, totalling 1000 fits\n"
     ]
    }
   ],
   "source": [
    "test = 0.33\n",
    "mlp_record = []\n",
    "mlp_params = []\n",
    "mlp_estimators = []\n",
    "\n",
    "scaler = MinMaxScaler()\n",
    "scaled_X = scaler.fit_transform(X)\n",
    "\n",
    "##########\n",
    "# Random Grid setting\n",
    "random_grid = {\"hidden_layer_sizes\": list(itertools.permutations([25,50,100],2)) + list(itertools.permutations([25,50,100],3)),\n",
    "               \"activation\": [\"identity\", \"logistic\", \"tanh\", \"relu\"], \n",
    "               \"solver\": [\"lbfgs\", \"sgd\", \"adam\"],\n",
    "               'learning_rate' : ['constant', 'adaptive', 'invscaling'],\n",
    "               \"alpha\": [0.001,0.0001,0.00001,0.000001]}\n",
    "##############\n",
    "\n",
    "for i in targets:\n",
    "    i = np.array(i).reshape(-1,1)\n",
    "    scaled_y = scaler.fit_transform(i)\n",
    "    scaled_y = np.array(scaled_y).reshape(len(scaled_y),)\n",
    "    X_train, X_test, y_train, y_test = train_test_split(scaled_X, scaled_y, test_size=test, random_state=42)\n",
    "    mlp = MLPRegressor(random_state=42)\n",
    "    mlp_rand = RandomizedSearchCV(estimator = mlp, param_distributions = random_grid, n_iter = 200, cv = 5, verbose=2, random_state=42, n_jobs = -1)\n",
    "    mlp_rand.fit(X_train, y_train)\n",
    "    mlp_record += [mlp_rand.score(X_test, y_test)]\n",
    "    mlp_params += [mlp_rand.best_params_]\n",
    "    mlp_estimators += [mlp_rand.best_estimator_]"
   ]
  },
  {
   "cell_type": "code",
   "execution_count": 67,
   "metadata": {},
   "outputs": [
    {
     "data": {
      "image/png": "[encoded data removed]",
      "text/plain": [
       "<Figure size 1296x432 with 1 Axes>"
      ]
     },
     "metadata": {
      "needs_background": "light"
     },
     "output_type": "display_data"
    }
   ],
   "source": [
    "#Plotting the randomized search results in comparison to the benchmark results\n",
    "x = ['EBI', 'Milk SI', 'Fert SI', 'Calv SI', 'Beef SI', 'Maint SI', 'Mgt SI', 'Health SI', 'Milk kg', 'Fat kg', 'Protein kg', 'Calv. Int [days]', 'Survival %']\n",
    "y = np.array(mlp_record) - np.array(bench_record)\n",
    "\n",
    "cc=['colors']*len(y)\n",
    "for n,val in enumerate(y):\n",
    "    if val<0:\n",
    "        cc[n]='red'\n",
    "    elif val>=0:\n",
    "        cc[n]='blue'\n",
    "\n",
    "\n",
    "figure(figsize=(18, 6))\n",
    "plt.bar(x, y, color = cc)\n",
    "plt.title('R2 score gain')\n",
    "plt.show()"
   ]
  },
  {
   "cell_type": "code",
   "execution_count": 68,
   "metadata": {
    "collapsed": true
   },
   "outputs": [
    {
     "name": "stdout",
     "output_type": "stream",
     "text": [
      "Fitting 5 folds for each of 18 candidates, totalling 90 fits\n",
      "Fitting 5 folds for each of 18 candidates, totalling 90 fits\n",
      "Fitting 5 folds for each of 18 candidates, totalling 90 fits\n",
      "Fitting 5 folds for each of 18 candidates, totalling 90 fits\n",
      "Fitting 5 folds for each of 18 candidates, totalling 90 fits\n",
      "Fitting 5 folds for each of 18 candidates, totalling 90 fits\n",
      "Fitting 5 folds for each of 18 candidates, totalling 90 fits\n",
      "Fitting 5 folds for each of 18 candidates, totalling 90 fits\n",
      "Fitting 5 folds for each of 18 candidates, totalling 90 fits\n",
      "Fitting 5 folds for each of 18 candidates, totalling 90 fits\n",
      "Fitting 5 folds for each of 18 candidates, totalling 90 fits\n",
      "Fitting 5 folds for each of 18 candidates, totalling 90 fits\n",
      "Fitting 5 folds for each of 18 candidates, totalling 90 fits\n"
     ]
    }
   ],
   "source": [
    "### Automatized grid search for each target feature\n",
    "mlp_grid_record = []\n",
    "mlp_grid_params = []\n",
    "mlp_grid_estimators = []\n",
    "\n",
    "scaled_X = scaler.fit_transform(X)\n",
    "\n",
    "for i in range(len(mlp_record)):\n",
    "    param_grid = {\"hidden_layer_sizes\": list(itertools.permutations([25,50,100],len(mlp_params[i][\"hidden_layer_sizes\"]))),\n",
    "               \"activation\": [mlp_params[i]['activation']], \n",
    "               \"solver\": [mlp_params[i]['solver']],\n",
    "               'learning_rate' : [mlp_params[i]['learning_rate']],\n",
    "               \"alpha\": [mlp_params[i]['alpha']*0.9, mlp_params[i]['alpha'], mlp_params[i]['alpha']*1.1]}\n",
    "    \n",
    "    \n",
    "    i = np.array(targets[i]).reshape(-1,1)\n",
    "    scaled_y = scaler.fit_transform(i)\n",
    "    scaled_y = np.array(scaled_y).reshape(len(scaled_y),)\n",
    "    \n",
    "    \n",
    "    mlp = MLPRegressor(random_state=42)\n",
    "    grid_search = GridSearchCV(estimator = mlp, param_grid = param_grid, cv = 5, n_jobs = -1, verbose = 2)\n",
    "    X_train, X_test, y_train, y_test = train_test_split(scaled_X, scaled_y, test_size=test, random_state=42)\n",
    "    grid_search.fit(X_train, y_train)\n",
    "    mlp_grid_record += [grid_search.score(X_test, y_test)]\n",
    "    mlp_grid_params += [grid_search.best_params_]\n",
    "    mlp_grid_estimators += [grid_search.best_estimator_]"
   ]
  },
  {
   "cell_type": "code",
   "execution_count": 69,
   "metadata": {},
   "outputs": [
    {
     "data": {
      "image/png": "[encoded data removed]",
      "text/plain": [
       "<Figure size 1296x432 with 1 Axes>"
      ]
     },
     "metadata": {
      "needs_background": "light"
     },
     "output_type": "display_data"
    }
   ],
   "source": [
    "#Plotting the grid search results in comparison to the randomized search results\n",
    "x = ['EBI', 'Milk SI', 'Fert SI', 'Calv SI', 'Beef SI', 'Maint SI', 'Mgt SI', 'Health SI', 'Milk kg', 'Fat kg', 'Protein kg', 'Calv. Int [days]', 'Survival %']\n",
    "y = np.array(mlp_grid_record) - np.array(mlp_record)\n",
    "\n",
    "cc=['colors']*len(y)\n",
    "for n,val in enumerate(y):\n",
    "    if val<0:\n",
    "        cc[n]='red'\n",
    "    elif val>=0:\n",
    "        cc[n]='blue'\n",
    "\n",
    "\n",
    "figure(figsize=(18, 6))\n",
    "plt.bar(x, y, color = cc)\n",
    "plt.title('R2 score gain')\n",
    "plt.show()"
   ]
  },
  {
   "cell_type": "code",
   "execution_count": 70,
   "metadata": {},
   "outputs": [],
   "source": [
    "#Keeping only the grid search parameters that performed better than the randomized search ones\n",
    "final_mlp_record = []\n",
    "final_mlp_params = []\n",
    "final_mlp_estimators = []\n",
    "for i in range(len(mlp_record)):\n",
    "    if mlp_grid_record[i] > mlp_record[i]:\n",
    "        final_mlp_record += [mlp_grid_record[i]]\n",
    "        final_mlp_params += [mlp_grid_params[i]]\n",
    "        final_mlp_estimators += [mlp_grid_estimators[i]]\n",
    "    else:\n",
    "        final_mlp_record += [mlp_record[i]]\n",
    "        final_mlp_params += [mlp_params[i]]\n",
    "        final_mlp_estimators += [mlp_estimators[i]]"
   ]
  },
  {
   "cell_type": "code",
   "execution_count": 71,
   "metadata": {},
   "outputs": [
    {
     "data": {
      "image/png": "[encoded data removed]",
      "text/plain": [
       "<Figure size 1296x432 with 1 Axes>"
      ]
     },
     "metadata": {
      "needs_background": "light"
     },
     "output_type": "display_data"
    }
   ],
   "source": [
    "#Plotting the final results in comparison to the benchmark\n",
    "x = ['EBI', 'Milk SI', 'Fert SI', 'Calv SI', 'Beef SI', 'Maint SI', 'Mgt SI', 'Health SI', 'Milk kg', 'Fat kg', 'Protein kg', 'Calv. Int [days]', 'Survival %']\n",
    "y = np.array(final_mlp_record) - np.array(bench_record)\n",
    "\n",
    "cc=['colors']*len(y)\n",
    "for n,val in enumerate(y):\n",
    "    if val<0:\n",
    "        cc[n]='red'\n",
    "    elif val>=0:\n",
    "        cc[n]='blue'\n",
    "\n",
    "\n",
    "figure(figsize=(18, 6))\n",
    "plt.bar(x, y, color = cc)\n",
    "plt.title('R2 score gain')\n",
    "plt.show()"
   ]
  },
  {
   "cell_type": "markdown",
   "metadata": {},
   "source": [
    "## Part 4: Results"
   ]
  },
  {
   "cell_type": "code",
   "execution_count": 154,
   "metadata": {},
   "outputs": [],
   "source": [
    "#Compiling all the results in one array for easier access\n",
    "results = np.array([final_record, final_reg_record, final_el_record, final_mlp_record, bench_record])"
   ]
  },
  {
   "cell_type": "code",
   "execution_count": 73,
   "metadata": {},
   "outputs": [
    {
     "data": {
      "text/plain": [
       "0.1272697647577436"
      ]
     },
     "execution_count": 73,
     "metadata": {},
     "output_type": "execute_result"
    }
   ],
   "source": [
    "np.mean([results.T[0][0:4]-results.T[0][4],\n",
    "         results.T[1][0:4]-results.T[1][4],\n",
    "         results.T[2][0:4]-results.T[2][4],\n",
    "         results.T[3][0:4]-results.T[3][4],\n",
    "         results.T[5][0:4]-results.T[5][4],\n",
    "         results.T[6][0:4]-results.T[6][4], \n",
    "         results.T[11][0:4]-results.T[11][4], \n",
    "         results.T[12][0:4]-results.T[12][4]])"
   ]
  },
  {
   "cell_type": "code",
   "execution_count": 74,
   "metadata": {},
   "outputs": [
    {
     "data": {
      "text/plain": [
       "-0.04105610686337283"
      ]
     },
     "execution_count": 74,
     "metadata": {},
     "output_type": "execute_result"
    }
   ],
   "source": [
    "np.mean(results.T[8][0:4]-results.T[8][4])"
   ]
  },
  {
   "cell_type": "code",
   "execution_count": 75,
   "metadata": {},
   "outputs": [
    {
     "data": {
      "text/plain": [
       "0.0090337436041406"
      ]
     },
     "execution_count": 75,
     "metadata": {},
     "output_type": "execute_result"
    }
   ],
   "source": [
    "np.mean([results.T[7][0:4]-results.T[7][4],\n",
    "         results.T[9][0:4]-results.T[9][4],\n",
    "         results.T[10][0:4]-results.T[10][4]])"
   ]
  },
  {
   "cell_type": "code",
   "execution_count": 76,
   "metadata": {
    "scrolled": false
   },
   "outputs": [
    {
     "data": {
      "text/plain": [
       "Text(0.5, 1.0, 'Results Summary')"
      ]
     },
     "execution_count": 76,
     "metadata": {},
     "output_type": "execute_result"
    },
    {
     "data": {
      "image/png": "[encoded data removed]",
      "text/plain": [
       "<Figure size 432x288 with 1 Axes>"
      ]
     },
     "metadata": {
      "needs_background": "light"
     },
     "output_type": "display_data"
    }
   ],
   "source": [
    "R = np.arange(13)\n",
    "labels = []\n",
    "for i in R:\n",
    "    labels += [targets[i].name]\n",
    "fig = plt.figure()\n",
    "ax = fig.add_axes([0,0,5,4])\n",
    "ax.bar(R - 0.3, results[0]-results[4], width=0.2, label = 'Random Forest')\n",
    "ax.bar(R - 0.1, results[1]-results[4], width=0.2, label = 'Gradient Boosting')\n",
    "ax.bar(R + 0.1, results[2]-results[4], width=0.2, label = 'Elastic Net')\n",
    "ax.bar(R + 0.3, results[3]-results[4], width=0.2, label = 'Multi-layer Perceptron')\n",
    "\n",
    "'''ax.bar(R - 0.3, results[0], width=0.15, label = 'Random Forest')\n",
    "ax.bar(R - 0.15, results[1], width=0.15, label = 'Gradient Boosting')\n",
    "ax.bar(R + 0.0, results[2], width=0.15, label = 'Elastic Net')\n",
    "ax.bar(R + 0.15, results[3], width=0.15, label = 'Multilayer Perceptor')\n",
    "ax.bar(R + 0.3, results[4], width=0.15, label = 'ICBF')'''\n",
    "\n",
    "ax.set_xticks(R, labels, fontsize = 20)\n",
    "plt.yticks(fontsize = 20)\n",
    "ax.legend(fontsize = 25)\n",
    "plt.ylabel('R2 score relative to benchmark', size = 30)\n",
    "plt.xlabel('Target', size = 30)\n",
    "ax.set_title('Results Summary', fontsize = 50)"
   ]
  },
  {
   "cell_type": "code",
   "execution_count": 77,
   "metadata": {},
   "outputs": [
    {
     "data": {
      "image/png": "[encoded data removed]",
      "text/plain": [
       "<Figure size 720x504 with 1 Axes>"
      ]
     },
     "metadata": {
      "needs_background": "light"
     },
     "output_type": "display_data"
    }
   ],
   "source": [
    "fig = plt.figure(figsize =(10, 7))\n",
    "ax = fig.add_axes([0,0,1,1])\n",
    "# Creating plot\n",
    "ax.boxplot(results.T, labels = ['Random Forest', 'Gradient Boosting', 'Elastic Net', 'Multi-layer Perceptron', 'GWAS'], showmeans=True)\n",
    "plt.ylabel('R2 score', size = 15)\n",
    "ax.set_title('Performance Distribution per Method', fontsize = 20)\n",
    "# show plot\n",
    "plt.show()"
   ]
  },
  {
   "cell_type": "code",
   "execution_count": 78,
   "metadata": {},
   "outputs": [],
   "source": [
    "#Results comparison by method\n",
    "comp = pd.DataFrame([[np.var(results[0]), np.var(results[1]), np.var(results[2]), np.var(results[3]), np.var(results[4])],[np.mean(results[0]), np.mean(results[1]), np.mean(results[2]), np.mean(results[3]), np.mean(results[4])]], columns = ['Random Forest', 'Gradient Boosting', 'Elastic Net', 'Multi-layer Perceptron', 'GWAS'])\n",
    "comp.set_index([['R2 Variance', 'Average R2']], inplace=True)"
   ]
  },
  {
   "cell_type": "code",
   "execution_count": 79,
   "metadata": {
    "scrolled": true
   },
   "outputs": [
    {
     "data": {
      "text/html": [
       "<div>\n",
       "<style scoped>\n",
       "    .dataframe tbody tr th:only-of-type {\n",
       "        vertical-align: middle;\n",
       "    }\n",
       "\n",
       "    .dataframe tbody tr th {\n",
       "        vertical-align: top;\n",
       "    }\n",
       "\n",
       "    .dataframe thead th {\n",
       "        text-align: right;\n",
       "    }\n",
       "</style>\n",
       "<table border=\"1\" class=\"dataframe\">\n",
       "  <thead>\n",
       "    <tr style=\"text-align: right;\">\n",
       "      <th></th>\n",
       "      <th>Random Forest</th>\n",
       "      <th>Gradient Boosting</th>\n",
       "      <th>Elastic Net</th>\n",
       "      <th>Multi-layer Perceptron</th>\n",
       "      <th>GWAS</th>\n",
       "    </tr>\n",
       "  </thead>\n",
       "  <tbody>\n",
       "    <tr>\n",
       "      <th>R2 Variance</th>\n",
       "      <td>0.008022</td>\n",
       "      <td>0.006824</td>\n",
       "      <td>0.006751</td>\n",
       "      <td>0.006765</td>\n",
       "      <td>0.022960</td>\n",
       "    </tr>\n",
       "    <tr>\n",
       "      <th>Average R2</th>\n",
       "      <td>0.777576</td>\n",
       "      <td>0.781550</td>\n",
       "      <td>0.784021</td>\n",
       "      <td>0.776359</td>\n",
       "      <td>0.709621</td>\n",
       "    </tr>\n",
       "  </tbody>\n",
       "</table>\n",
       "</div>"
      ],
      "text/plain": [
       "             Random Forest  Gradient Boosting  Elastic Net  \\\n",
       "R2 Variance       0.008022           0.006824     0.006751   \n",
       "Average R2        0.777576           0.781550     0.784021   \n",
       "\n",
       "             Multi-layer Perceptron      GWAS  \n",
       "R2 Variance                0.006765  0.022960  \n",
       "Average R2                 0.776359  0.709621  "
      ]
     },
     "execution_count": 79,
     "metadata": {},
     "output_type": "execute_result"
    }
   ],
   "source": [
    "comp"
   ]
  },
  {
   "cell_type": "code",
   "execution_count": 80,
   "metadata": {},
   "outputs": [
    {
     "name": "stdout",
     "output_type": "stream",
     "text": [
      "Random Forest Variance =  0.00802\n",
      "Gradient Boosting Variance =  0.00682\n",
      "Elastic Net Variance =  0.00675\n",
      "Multilayer Perceptor Variance =  0.00676\n",
      "GWAS Variance =  0.02296\n"
     ]
    }
   ],
   "source": [
    "print('Random Forest Variance = ',\"{:.5f}\".format(np.var(results[0])))\n",
    "print('Gradient Boosting Variance = ',\"{:.5f}\".format(np.var(results[1])))\n",
    "print('Elastic Net Variance = ',\"{:.5f}\".format(np.var(results[2])))\n",
    "print('Multilayer Perceptor Variance = ',\"{:.5f}\".format(np.var(results[3])))\n",
    "print('GWAS Variance = ',\"{:.5f}\".format(np.var(results[4])))"
   ]
  },
  {
   "cell_type": "code",
   "execution_count": 81,
   "metadata": {},
   "outputs": [
    {
     "data": {
      "text/plain": [
       "Text(0.5, 1.0, 'ICBF prediction benchmark')"
      ]
     },
     "execution_count": 81,
     "metadata": {},
     "output_type": "execute_result"
    },
    {
     "data": {
      "image/png": "[encoded data removed]",
      "text/plain": [
       "<Figure size 432x288 with 1 Axes>"
      ]
     },
     "metadata": {
      "needs_background": "light"
     },
     "output_type": "display_data"
    }
   ],
   "source": [
    "fig = plt.figure()\n",
    "ax = fig.add_axes([0,0,2.25,2.25])\n",
    "ax.bar(pd.DataFrame(targets).T.columns, bench_record)\n",
    "ax.set_title('ICBF prediction benchmark', fontsize = 18)"
   ]
  },
  {
   "cell_type": "code",
   "execution_count": 82,
   "metadata": {},
   "outputs": [
    {
     "data": {
      "image/png": "[encoded data removed]",
      "text/plain": [
       "<Figure size 936x504 with 1 Axes>"
      ]
     },
     "metadata": {
      "needs_background": "light"
     },
     "output_type": "display_data"
    }
   ],
   "source": [
    "fig = plt.figure(figsize =(13, 7))\n",
    "ax = fig.add_axes([0,0,1,1])\n",
    "# Creating plot\n",
    "ax.boxplot(results[0:4], showmeans=True, labels = ['EBI', 'Milk SI', 'Fert SI', 'Calv SI', 'Beef SI', 'Maint SI', 'Mgt SI', 'Health SI', 'Milk kg', 'Fat kg', 'Protein kg', 'Calv. Int [days]', 'Survival %'])\n",
    "plt.ylabel('R2 score', size = 15)\n",
    "ax.set_title('Average Performance Distribution per Target (only ML)', fontsize = 20)\n",
    "# show plot\n",
    "plt.show()"
   ]
  },
  {
   "cell_type": "code",
   "execution_count": 85,
   "metadata": {},
   "outputs": [
    {
     "data": {
      "image/png": "[encoded data removed]",
      "text/plain": [
       "<Figure size 936x504 with 1 Axes>"
      ]
     },
     "metadata": {
      "needs_background": "light"
     },
     "output_type": "display_data"
    }
   ],
   "source": [
    "fig = plt.figure(figsize =(13, 7))\n",
    "ax = fig.add_axes([0,0,1,1])\n",
    "# Creating plot\n",
    "ax.boxplot(np.array([results[0]-results[4], results[1]-results[4], results[2]-results[4], results[3]-results[4]]), showmeans=True, labels = ['EBI', 'Milk SI', 'Fert SI', 'Calv SI', 'Beef SI', 'Maint SI', 'Mgt SI', 'Health SI', 'Milk kg', 'Fat kg', 'Protein kg', 'Calv. Int [days]', 'Survival %'])\n",
    "plt.ylabel('R2 score', size = 15)\n",
    "ax.set_title('Average Performance Distribution per Target (relative to GWAS)', fontsize = 20)\n",
    "# show plot\n",
    "plt.show()"
   ]
  },
  {
   "cell_type": "code",
   "execution_count": 95,
   "metadata": {},
   "outputs": [
    {
     "data": {
      "text/plain": [
       "array([[1.        , 0.79207547],\n",
       "       [0.79207547, 1.        ]])"
      ]
     },
     "execution_count": 95,
     "metadata": {},
     "output_type": "execute_result"
    }
   ],
   "source": [
    "#Correlation between ML and GWAS\n",
    "me = []\n",
    "for i in range(13):\n",
    "    me += [np.mean(results[0:4].T[i])]\n",
    "np.corrcoef(me, results[4])"
   ]
  },
  {
   "cell_type": "code",
   "execution_count": 134,
   "metadata": {},
   "outputs": [
    {
     "data": {
      "text/plain": [
       "array([[1.        , 0.53089034],\n",
       "       [0.53089034, 1.        ]])"
      ]
     },
     "execution_count": 134,
     "metadata": {},
     "output_type": "execute_result"
    }
   ],
   "source": [
    "#Correlation between GWAS and Sub Index ponderation\n",
    "si_ponderation = [0.33, 0.33, 0.01, 0.08, 0.08, 0.04, 0.03]\n",
    "np.corrcoef(list(bench_record[1:8]), si_ponderation)"
   ]
  },
  {
   "cell_type": "code",
   "execution_count": 145,
   "metadata": {},
   "outputs": [
    {
     "data": {
      "text/plain": [
       "0.12547329487156322"
      ]
     },
     "execution_count": 145,
     "metadata": {},
     "output_type": "execute_result"
    }
   ],
   "source": [
    "#Elastic Net R2 gain over GWAS\n",
    "np.mean(results[2][[0, 1, 2, 3, 5, 6, 11, 12]])-np.mean(results[4][[0, 1, 2, 3, 5, 6, 11, 12]])"
   ]
  }
 ],
 "metadata": {
  "kernelspec": {
   "display_name": "Python 3 (ipykernel)",
   "language": "python",
   "name": "python3"
  },
  "language_info": {
   "codemirror_mode": {
    "name": "ipython",
    "version": 3
   },
   "file_extension": ".py",
   "mimetype": "text/x-python",
   "name": "python",
   "nbconvert_exporter": "python",
   "pygments_lexer": "ipython3",
   "version": "3.10.4"
  }
 },
 "nbformat": 4,
 "nbformat_minor": 4
}
